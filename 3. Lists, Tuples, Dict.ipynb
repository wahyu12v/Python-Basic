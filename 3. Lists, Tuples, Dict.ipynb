{
 "cells": [
  {
   "cell_type": "markdown",
   "id": "a6a317b1",
   "metadata": {},
   "source": [
    "## Lists, Tuples, Dict"
   ]
  },
  {
   "cell_type": "markdown",
   "id": "9b198edb",
   "metadata": {},
   "source": [
    "## 1. Intro Lists\n",
    "\n",
    "Lists in Python represent ordered sequences of values. Here is an example of how to create them:"
   ]
  },
  {
   "cell_type": "code",
   "execution_count": 8,
   "id": "75032610",
   "metadata": {},
   "outputs": [],
   "source": [
    "a = []"
   ]
  },
  {
   "cell_type": "code",
   "execution_count": 9,
   "id": "0352e24b",
   "metadata": {},
   "outputs": [
    {
     "data": {
      "text/plain": [
       "list"
      ]
     },
     "execution_count": 9,
     "metadata": {},
     "output_type": "execute_result"
    }
   ],
   "source": [
    "type(a)"
   ]
  },
  {
   "cell_type": "code",
   "execution_count": 10,
   "id": "3d9bee6c",
   "metadata": {},
   "outputs": [
    {
     "data": {
      "text/plain": [
       "0"
      ]
     },
     "execution_count": 10,
     "metadata": {},
     "output_type": "execute_result"
    }
   ],
   "source": [
    "len(a)"
   ]
  },
  {
   "cell_type": "code",
   "execution_count": 1,
   "id": "77ec50ca",
   "metadata": {},
   "outputs": [
    {
     "data": {
      "text/plain": [
       "[2, 3, 5, 7]"
      ]
     },
     "execution_count": 1,
     "metadata": {},
     "output_type": "execute_result"
    }
   ],
   "source": [
    "primes = [2, 3, 5, 7]\n",
    "primes"
   ]
  },
  {
   "cell_type": "code",
   "execution_count": 40,
   "id": "25432a6d",
   "metadata": {},
   "outputs": [
    {
     "data": {
      "text/plain": [
       "['Mercury', 'Venus', 'Earth', 'Mars', 'Jupiter', 'Saturn', 'Uranus', 'Neptune']"
      ]
     },
     "execution_count": 40,
     "metadata": {},
     "output_type": "execute_result"
    }
   ],
   "source": [
    "planets = ['Mercury', 'Venus', 'Earth', 'Mars', 'Jupiter', 'Saturn', 'Uranus', 'Neptune']\n",
    "planets"
   ]
  },
  {
   "cell_type": "code",
   "execution_count": 39,
   "id": "fbdd3cfb",
   "metadata": {},
   "outputs": [
    {
     "data": {
      "text/plain": [
       "['lintang', 'gilang']"
      ]
     },
     "execution_count": 39,
     "metadata": {},
     "output_type": "execute_result"
    }
   ],
   "source": [
    "nama = ['lintang','gilang']\n",
    "nama"
   ]
  },
  {
   "cell_type": "code",
   "execution_count": 236,
   "id": "4c34b3b5",
   "metadata": {},
   "outputs": [
    {
     "data": {
      "text/plain": [
       "[['J', 'Q', 'K'], ['2', '2', '2'], ['6', 'A', 'K']]"
      ]
     },
     "execution_count": 236,
     "metadata": {},
     "output_type": "execute_result"
    }
   ],
   "source": [
    "hands = [\n",
    "    ['J', 'Q', 'K'],\n",
    "    ['2', '2', '2'],\n",
    "    ['6', 'A', 'K'], # (Comma after the last element is optional)\n",
    "]\n",
    "hands"
   ]
  },
  {
   "cell_type": "code",
   "execution_count": 237,
   "id": "9b6e5a3a",
   "metadata": {},
   "outputs": [],
   "source": [
    "legs = [\n",
    "    ['J', 'Q', 'k'], \n",
    "    ['2', '2', '2'], \n",
    "    ['6', 'A', 'K']\n",
    "]"
   ]
  },
  {
   "cell_type": "code",
   "execution_count": 238,
   "id": "6945ca1e",
   "metadata": {},
   "outputs": [
    {
     "name": "stdout",
     "output_type": "stream",
     "text": [
      "beda\n"
     ]
    }
   ],
   "source": [
    "if hands == legs:\n",
    "    print('sama')\n",
    "else:\n",
    "    print('beda')"
   ]
  },
  {
   "cell_type": "code",
   "execution_count": 23,
   "id": "7df25f5c",
   "metadata": {},
   "outputs": [],
   "source": [
    "a = [ \n",
    "    [['a','b'],2,3,4,5] , \n",
    "    [3,4]\n",
    "]"
   ]
  },
  {
   "cell_type": "code",
   "execution_count": 25,
   "id": "0ae3dc75",
   "metadata": {},
   "outputs": [
    {
     "data": {
      "text/plain": [
       "2"
      ]
     },
     "execution_count": 25,
     "metadata": {},
     "output_type": "execute_result"
    }
   ],
   "source": [
    "len(a[0][0])"
   ]
  },
  {
   "cell_type": "code",
   "execution_count": 4,
   "id": "30c0567b",
   "metadata": {},
   "outputs": [
    {
     "data": {
      "text/plain": [
       "[['J', 'Q', 'K'], ['2', '2', '2'], ['6', 'A', 'K']]"
      ]
     },
     "execution_count": 4,
     "metadata": {},
     "output_type": "execute_result"
    }
   ],
   "source": [
    "# (I could also have written this on one line, but it can get hard to read)\n",
    "hands = [['J', 'Q', 'K'], ['2', '2', '2'], ['6', 'A', 'K']]\n",
    "hands"
   ]
  },
  {
   "cell_type": "code",
   "execution_count": 5,
   "id": "4139279e",
   "metadata": {},
   "outputs": [],
   "source": [
    "my_favourite_things = [32, 'raindrops on roses', help]\n",
    "# (Yes, Python's help function is *definitely* one of my favourite things)"
   ]
  },
  {
   "cell_type": "markdown",
   "id": "310535dc",
   "metadata": {},
   "source": [
    "## 2. Indexing\n",
    "\n",
    "You can access individual list elements with square brackets.\n",
    "\n",
    "Which planet is closest to the sun? Python uses zero-based indexing, so the first element has index 0."
   ]
  },
  {
   "cell_type": "code",
   "execution_count": 26,
   "id": "4d3bbf43",
   "metadata": {},
   "outputs": [
    {
     "data": {
      "text/plain": [
       "['Mercury', 'Venus', 'Earth', 'Mars', 'Jupiter', 'Saturn', 'Uranus', 'Neptune']"
      ]
     },
     "execution_count": 26,
     "metadata": {},
     "output_type": "execute_result"
    }
   ],
   "source": [
    "planets"
   ]
  },
  {
   "cell_type": "code",
   "execution_count": 32,
   "id": "0643c573",
   "metadata": {},
   "outputs": [
    {
     "data": {
      "text/plain": [
       "7"
      ]
     },
     "execution_count": 32,
     "metadata": {},
     "output_type": "execute_result"
    }
   ],
   "source": [
    "len(planets) - 1"
   ]
  },
  {
   "cell_type": "code",
   "execution_count": 36,
   "id": "e52e4a76",
   "metadata": {},
   "outputs": [
    {
     "ename": "IndexError",
     "evalue": "list index out of range",
     "output_type": "error",
     "traceback": [
      "\u001b[1;31m---------------------------------------------------------------------------\u001b[0m",
      "\u001b[1;31mIndexError\u001b[0m                                Traceback (most recent call last)",
      "\u001b[1;32mC:\\Users\\LINTAN~1.PRA\\AppData\\Local\\Temp/ipykernel_9628/3835443080.py\u001b[0m in \u001b[0;36m<module>\u001b[1;34m\u001b[0m\n\u001b[1;32m----> 1\u001b[1;33m \u001b[0mplanets\u001b[0m\u001b[1;33m[\u001b[0m\u001b[1;36m8\u001b[0m\u001b[1;33m]\u001b[0m\u001b[1;33m\u001b[0m\u001b[1;33m\u001b[0m\u001b[0m\n\u001b[0m",
      "\u001b[1;31mIndexError\u001b[0m: list index out of range"
     ]
    }
   ],
   "source": [
    "planets[8]"
   ]
  },
  {
   "cell_type": "code",
   "execution_count": 7,
   "id": "c5ce941d",
   "metadata": {},
   "outputs": [
    {
     "data": {
      "text/plain": [
       "'Venus'"
      ]
     },
     "execution_count": 7,
     "metadata": {},
     "output_type": "execute_result"
    }
   ],
   "source": [
    "planets[1]"
   ]
  },
  {
   "cell_type": "code",
   "execution_count": 33,
   "id": "71163c66",
   "metadata": {},
   "outputs": [],
   "source": [
    "# unique"
   ]
  },
  {
   "cell_type": "code",
   "execution_count": 34,
   "id": "a5678327",
   "metadata": {},
   "outputs": [
    {
     "data": {
      "text/plain": [
       "'Neptune'"
      ]
     },
     "execution_count": 34,
     "metadata": {},
     "output_type": "execute_result"
    }
   ],
   "source": [
    "planets[-1]"
   ]
  },
  {
   "cell_type": "code",
   "execution_count": 42,
   "id": "ce0caec5",
   "metadata": {},
   "outputs": [
    {
     "data": {
      "text/plain": [
       "['Mercury', 'Venus', 'Earth', 'Mars', 'Jupiter', 'Saturn', 'Uranus', 'Neptune']"
      ]
     },
     "execution_count": 42,
     "metadata": {},
     "output_type": "execute_result"
    }
   ],
   "source": [
    "planets"
   ]
  },
  {
   "cell_type": "code",
   "execution_count": 41,
   "id": "a5306045",
   "metadata": {},
   "outputs": [
    {
     "data": {
      "text/plain": [
       "'Venus'"
      ]
     },
     "execution_count": 41,
     "metadata": {},
     "output_type": "execute_result"
    }
   ],
   "source": [
    "planets[-7]"
   ]
  },
  {
   "cell_type": "markdown",
   "id": "54ee7cd5",
   "metadata": {},
   "source": [
    "## 3. Slicing\n",
    "\n",
    "What are the first three planets? We can answer this question using slicing:"
   ]
  },
  {
   "cell_type": "code",
   "execution_count": 46,
   "id": "a3c60694",
   "metadata": {},
   "outputs": [
    {
     "data": {
      "text/plain": [
       "['Mercury', 'Venus', 'Earth', 'Mars', 'Jupiter', 'Saturn', 'Uranus', 'Neptune']"
      ]
     },
     "execution_count": 46,
     "metadata": {},
     "output_type": "execute_result"
    }
   ],
   "source": [
    "planets"
   ]
  },
  {
   "cell_type": "code",
   "execution_count": 45,
   "id": "4a04bfb2",
   "metadata": {},
   "outputs": [
    {
     "data": {
      "text/plain": [
       "['Mercury', 'Venus', 'Earth']"
      ]
     },
     "execution_count": 45,
     "metadata": {},
     "output_type": "execute_result"
    }
   ],
   "source": [
    "planets[0:3] # --> urutan 1,2,3"
   ]
  },
  {
   "cell_type": "code",
   "execution_count": 47,
   "id": "855126e0",
   "metadata": {},
   "outputs": [
    {
     "data": {
      "text/plain": [
       "['Mercury', 'Venus', 'Earth']"
      ]
     },
     "execution_count": 47,
     "metadata": {},
     "output_type": "execute_result"
    }
   ],
   "source": [
    "planets[:3]"
   ]
  },
  {
   "cell_type": "code",
   "execution_count": 12,
   "id": "521866cb",
   "metadata": {},
   "outputs": [
    {
     "data": {
      "text/plain": [
       "['Mars', 'Jupiter', 'Saturn', 'Uranus', 'Neptune']"
      ]
     },
     "execution_count": 12,
     "metadata": {},
     "output_type": "execute_result"
    }
   ],
   "source": [
    "planets[3:] # --> urutan ke -4 sampain end"
   ]
  },
  {
   "cell_type": "code",
   "execution_count": 92,
   "id": "061987ac",
   "metadata": {},
   "outputs": [
    {
     "data": {
      "text/plain": [
       "['Mercury', 'Venus', 'Earth', 'Mars', 'Jupiter', 'Saturn', 'Uranus', 'Neptune']"
      ]
     },
     "execution_count": 92,
     "metadata": {},
     "output_type": "execute_result"
    }
   ],
   "source": [
    "planets"
   ]
  },
  {
   "cell_type": "code",
   "execution_count": 95,
   "id": "c10a5ba6",
   "metadata": {},
   "outputs": [
    {
     "data": {
      "text/plain": [
       "('Venus', 'Neptune')"
      ]
     },
     "execution_count": 95,
     "metadata": {},
     "output_type": "execute_result"
    }
   ],
   "source": [
    "planets[1], planets[-1] "
   ]
  },
  {
   "cell_type": "code",
   "execution_count": 97,
   "id": "27331d93",
   "metadata": {},
   "outputs": [
    {
     "data": {
      "text/plain": [
       "['Venus', 'Earth', 'Mars', 'Jupiter', 'Saturn', 'Uranus', 'Neptune']"
      ]
     },
     "execution_count": 97,
     "metadata": {},
     "output_type": "execute_result"
    }
   ],
   "source": [
    "# All the planets except the first and last\n",
    "planets[1:]"
   ]
  },
  {
   "cell_type": "code",
   "execution_count": 96,
   "id": "7a88311a",
   "metadata": {},
   "outputs": [
    {
     "data": {
      "text/plain": [
       "['Mercury', 'Venus', 'Earth', 'Mars', 'Jupiter', 'Saturn', 'Uranus']"
      ]
     },
     "execution_count": 96,
     "metadata": {},
     "output_type": "execute_result"
    }
   ],
   "source": [
    "planets[:-1]"
   ]
  },
  {
   "cell_type": "code",
   "execution_count": 14,
   "id": "d086d5c5",
   "metadata": {},
   "outputs": [
    {
     "data": {
      "text/plain": [
       "['Saturn', 'Uranus', 'Neptune']"
      ]
     },
     "execution_count": 14,
     "metadata": {},
     "output_type": "execute_result"
    }
   ],
   "source": [
    "# The last 3 planets\n",
    "planets[-3:]"
   ]
  },
  {
   "cell_type": "code",
   "execution_count": 81,
   "id": "89b67abf",
   "metadata": {},
   "outputs": [
    {
     "data": {
      "text/plain": [
       "['Mercury', 'Venus', 'Earth', 'Mars', 'Jupiter', 'Saturn', 'Uranus', 'Neptune']"
      ]
     },
     "execution_count": 81,
     "metadata": {},
     "output_type": "execute_result"
    }
   ],
   "source": [
    "planets"
   ]
  },
  {
   "cell_type": "code",
   "execution_count": 90,
   "id": "856369d5",
   "metadata": {},
   "outputs": [
    {
     "data": {
      "text/plain": [
       "['Mercury', 'Venus', 'Earth', 'Mars', 'Jupiter', 'Saturn']"
      ]
     },
     "execution_count": 90,
     "metadata": {},
     "output_type": "execute_result"
    }
   ],
   "source": [
    "planets[0:6]"
   ]
  },
  {
   "cell_type": "code",
   "execution_count": 91,
   "id": "bf020902",
   "metadata": {},
   "outputs": [
    {
     "data": {
      "text/plain": [
       "['Mercury', 'Earth', 'Jupiter']"
      ]
     },
     "execution_count": 91,
     "metadata": {},
     "output_type": "execute_result"
    }
   ],
   "source": [
    "planets[0:6:2]"
   ]
  },
  {
   "cell_type": "markdown",
   "id": "5f65c8ff",
   "metadata": {},
   "source": [
    "## 4. Changing lists\n",
    "\n",
    "Lists are \"mutable\", meaning they can be modified \"in place\". One way to modify a list is to assign to an index or slice expression.\n",
    "\n",
    "For example, let's say we want to rename Mars:"
   ]
  },
  {
   "cell_type": "code",
   "execution_count": 98,
   "id": "19b58c37",
   "metadata": {},
   "outputs": [
    {
     "data": {
      "text/plain": [
       "['Mercury', 'Venus', 'Earth', 'Mars', 'Jupiter', 'Saturn', 'Uranus', 'Neptune']"
      ]
     },
     "execution_count": 98,
     "metadata": {},
     "output_type": "execute_result"
    }
   ],
   "source": [
    "planets"
   ]
  },
  {
   "cell_type": "code",
   "execution_count": 99,
   "id": "8f4f2c2e",
   "metadata": {},
   "outputs": [
    {
     "data": {
      "text/plain": [
       "['Mercury',\n",
       " 'Venus',\n",
       " 'Earth',\n",
       " 'Malacandra',\n",
       " 'Jupiter',\n",
       " 'Saturn',\n",
       " 'Uranus',\n",
       " 'Neptune']"
      ]
     },
     "execution_count": 99,
     "metadata": {},
     "output_type": "execute_result"
    }
   ],
   "source": [
    "planets[3] = 'Malacandra'\n",
    "planets"
   ]
  },
  {
   "cell_type": "code",
   "execution_count": null,
   "id": "bfea52a8",
   "metadata": {},
   "outputs": [],
   "source": []
  },
  {
   "cell_type": "code",
   "execution_count": 101,
   "id": "1e5e09ea",
   "metadata": {},
   "outputs": [
    {
     "name": "stdout",
     "output_type": "stream",
     "text": [
      "['Mur', 'Vee', 'Ur', 'Malacandra', 'Jupiter', 'Saturn', 'Uranus', 'Neptune']\n"
     ]
    }
   ],
   "source": [
    "planets[:3] = ['Mur', 'Vee', 'Ur']\n",
    "print(planets)"
   ]
  },
  {
   "cell_type": "code",
   "execution_count": 102,
   "id": "b1abc2b7",
   "metadata": {},
   "outputs": [],
   "source": [
    "# That was silly. Let's give them back their old names\n",
    "planets[:4] = ['Mercury', 'Venus', 'Earth', 'Mars',]"
   ]
  },
  {
   "cell_type": "code",
   "execution_count": 109,
   "id": "0dbe11e1",
   "metadata": {},
   "outputs": [
    {
     "data": {
      "text/plain": [
       "['Mercury', 'Venus', 'Earth', 'Mars', 'Jupiter', 'Saturn', 'Uranus', 'Neptune']"
      ]
     },
     "execution_count": 109,
     "metadata": {},
     "output_type": "execute_result"
    }
   ],
   "source": [
    "planets = ['Mercury', 'Venus', 'Earth', 'Mars', 'Jupiter', 'Saturn', 'Uranus', 'Neptune']\n",
    "planets"
   ]
  },
  {
   "cell_type": "code",
   "execution_count": 110,
   "id": "5631730d",
   "metadata": {},
   "outputs": [],
   "source": [
    "planets[:3] = ['1', '2','3','4']"
   ]
  },
  {
   "cell_type": "code",
   "execution_count": 111,
   "id": "18abada3",
   "metadata": {},
   "outputs": [
    {
     "data": {
      "text/plain": [
       "['1', '2', '3', '4', 'Mars', 'Jupiter', 'Saturn', 'Uranus', 'Neptune']"
      ]
     },
     "execution_count": 111,
     "metadata": {},
     "output_type": "execute_result"
    }
   ],
   "source": [
    "planets"
   ]
  },
  {
   "cell_type": "markdown",
   "id": "36a54c90",
   "metadata": {},
   "source": [
    "## 5. List functions\n",
    "\n",
    "Python has several useful functions for working with lists.\n",
    "\n",
    "## a. function ```len``` gives the length of a list:"
   ]
  },
  {
   "cell_type": "code",
   "execution_count": 18,
   "id": "c9875996",
   "metadata": {},
   "outputs": [
    {
     "data": {
      "text/plain": [
       "8"
      ]
     },
     "execution_count": 18,
     "metadata": {},
     "output_type": "execute_result"
    }
   ],
   "source": [
    "# How many planets are there?\n",
    "len(planets)"
   ]
  },
  {
   "cell_type": "markdown",
   "id": "f1c33d2e",
   "metadata": {},
   "source": [
    "## b. function ```sorted``` returns a sorted version of a list:"
   ]
  },
  {
   "cell_type": "code",
   "execution_count": 119,
   "id": "a9a5e208",
   "metadata": {},
   "outputs": [
    {
     "data": {
      "text/plain": [
       "['Mercury', 'Venus', 'Earth', 'Mars', 'Jupiter', 'Saturn', 'Uranus', 'Neptune']"
      ]
     },
     "execution_count": 119,
     "metadata": {},
     "output_type": "execute_result"
    }
   ],
   "source": [
    "planets = ['Mercury', 'Venus', 'Earth', 'Mars', 'Jupiter', 'Saturn', 'Uranus', 'Neptune']\n",
    "planets"
   ]
  },
  {
   "cell_type": "code",
   "execution_count": 120,
   "id": "adf3d46e",
   "metadata": {},
   "outputs": [],
   "source": [
    "# The planets sorted in alphabetical order\n",
    "\n",
    "planets = sorted(planets)"
   ]
  },
  {
   "cell_type": "code",
   "execution_count": 121,
   "id": "213c0d7f",
   "metadata": {},
   "outputs": [
    {
     "data": {
      "text/plain": [
       "['Earth', 'Jupiter', 'Mars', 'Mercury', 'Neptune', 'Saturn', 'Uranus', 'Venus']"
      ]
     },
     "execution_count": 121,
     "metadata": {},
     "output_type": "execute_result"
    }
   ],
   "source": [
    "planets"
   ]
  },
  {
   "cell_type": "code",
   "execution_count": 123,
   "id": "5ca79018",
   "metadata": {},
   "outputs": [
    {
     "data": {
      "text/plain": [
       "['Earth', 'Jupiter', 'Mars', 'Mercury', 'Neptune', 'Saturn', 'Uranus', 'Venus']"
      ]
     },
     "execution_count": 123,
     "metadata": {},
     "output_type": "execute_result"
    }
   ],
   "source": [
    "planets = sorted(planets, reverse=False)\n",
    "planets"
   ]
  },
  {
   "cell_type": "markdown",
   "id": "3f86adf0",
   "metadata": {},
   "source": [
    "## c. function ```sum```, ```max``` , ```min```"
   ]
  },
  {
   "cell_type": "code",
   "execution_count": 124,
   "id": "17f8da16",
   "metadata": {},
   "outputs": [
    {
     "name": "stdout",
     "output_type": "stream",
     "text": [
      "17\n",
      "7\n",
      "2\n"
     ]
    }
   ],
   "source": [
    "primes = [2, 3, 5, 7]\n",
    "print(sum(primes))\n",
    "print(max(primes))\n",
    "print(min(primes))"
   ]
  },
  {
   "cell_type": "code",
   "execution_count": 127,
   "id": "ca005ac4",
   "metadata": {},
   "outputs": [
    {
     "data": {
      "text/plain": [
       "2"
      ]
     },
     "execution_count": 127,
     "metadata": {},
     "output_type": "execute_result"
    }
   ],
   "source": [
    "min(primes)"
   ]
  },
  {
   "cell_type": "markdown",
   "id": "12c87edc",
   "metadata": {},
   "source": [
    "## d. function ```list.append```, ```list.pop```"
   ]
  },
  {
   "cell_type": "code",
   "execution_count": 139,
   "id": "a383e772",
   "metadata": {},
   "outputs": [
    {
     "data": {
      "text/plain": [
       "['Mercury', 'Venus', 'Earth', 'Mars', 'Jupiter', 'Saturn', 'Uranus', 'Neptune']"
      ]
     },
     "execution_count": 139,
     "metadata": {},
     "output_type": "execute_result"
    }
   ],
   "source": [
    "planets = ['Mercury', 'Venus', 'Earth', 'Mars', 'Jupiter', 'Saturn', 'Uranus', 'Neptune']\n",
    "planets"
   ]
  },
  {
   "cell_type": "code",
   "execution_count": 136,
   "id": "70e0c813",
   "metadata": {},
   "outputs": [
    {
     "data": {
      "text/plain": [
       "['Mercury',\n",
       " 'Venus',\n",
       " 'Earth',\n",
       " 'Mars',\n",
       " 'Jupiter',\n",
       " 'Saturn',\n",
       " 'Uranus',\n",
       " 'Neptune',\n",
       " 'Pluto']"
      ]
     },
     "execution_count": 136,
     "metadata": {},
     "output_type": "execute_result"
    }
   ],
   "source": [
    "# Pluto is a planet darn it!\n",
    "planets.append('Pluto')\n",
    "planets"
   ]
  },
  {
   "cell_type": "code",
   "execution_count": 140,
   "id": "576d53c2",
   "metadata": {},
   "outputs": [
    {
     "data": {
      "text/plain": [
       "list"
      ]
     },
     "execution_count": 140,
     "metadata": {},
     "output_type": "execute_result"
    }
   ],
   "source": [
    "type(planets)"
   ]
  },
  {
   "cell_type": "code",
   "execution_count": 141,
   "id": "994c0ecb",
   "metadata": {},
   "outputs": [
    {
     "data": {
      "text/plain": [
       "['Mercury', 'Venus', 'Earth', 'Mars', 'Jupiter', 'Saturn', 'Uranus']"
      ]
     },
     "execution_count": 141,
     "metadata": {},
     "output_type": "execute_result"
    }
   ],
   "source": [
    "planets.pop()\n",
    "planets"
   ]
  },
  {
   "cell_type": "markdown",
   "id": "b9048c66",
   "metadata": {},
   "source": [
    "## e. Searching lists"
   ]
  },
  {
   "cell_type": "code",
   "execution_count": 142,
   "id": "975941c4",
   "metadata": {},
   "outputs": [
    {
     "data": {
      "text/plain": [
       "['Mercury', 'Venus', 'Earth', 'Mars', 'Jupiter', 'Saturn', 'Uranus']"
      ]
     },
     "execution_count": 142,
     "metadata": {},
     "output_type": "execute_result"
    }
   ],
   "source": [
    "planets"
   ]
  },
  {
   "cell_type": "code",
   "execution_count": 148,
   "id": "387e112c",
   "metadata": {},
   "outputs": [
    {
     "data": {
      "text/plain": [
       "2"
      ]
     },
     "execution_count": 148,
     "metadata": {},
     "output_type": "execute_result"
    }
   ],
   "source": [
    "planets.index('Earth')"
   ]
  },
  {
   "cell_type": "markdown",
   "id": "8fc11c44",
   "metadata": {},
   "source": [
    "Oh, that's right...\n",
    "\n",
    "To avoid unpleasant surprises like this, we can use the in operator to determine whether a list contains a particular value:"
   ]
  },
  {
   "cell_type": "code",
   "execution_count": 149,
   "id": "06994fe1",
   "metadata": {},
   "outputs": [
    {
     "data": {
      "text/plain": [
       "True"
      ]
     },
     "execution_count": 149,
     "metadata": {},
     "output_type": "execute_result"
    }
   ],
   "source": [
    "# Is Earth a planet?\n",
    "\"Earth\" in planets"
   ]
  },
  {
   "cell_type": "code",
   "execution_count": 150,
   "id": "ffdf9f8f",
   "metadata": {},
   "outputs": [
    {
     "data": {
      "text/plain": [
       "False"
      ]
     },
     "execution_count": 150,
     "metadata": {},
     "output_type": "execute_result"
    }
   ],
   "source": [
    "# Is Calbefraques a planet?\n",
    "\"Plotu\" in planets"
   ]
  },
  {
   "cell_type": "code",
   "execution_count": 151,
   "id": "6af36b89",
   "metadata": {},
   "outputs": [],
   "source": [
    "def cek_nama_planet():\n",
    "    a = input('Masukan nama planet : ')\n",
    "    if a in planets:\n",
    "        print('{} adalah planet'.format(a))\n",
    "    else :\n",
    "        print('{} bukan planet'.format(a))"
   ]
  },
  {
   "cell_type": "code",
   "execution_count": 153,
   "id": "ddda015f",
   "metadata": {},
   "outputs": [
    {
     "name": "stdout",
     "output_type": "stream",
     "text": [
      "Masukan nama planet : Earth\n",
      "Earth adalah planet\n"
     ]
    }
   ],
   "source": [
    "cek_nama_planet()"
   ]
  },
  {
   "cell_type": "markdown",
   "id": "abefacc8",
   "metadata": {},
   "source": [
    "## 6. Tuples\n",
    "\n",
    "Tuples are almost exactly the same as lists. They differ in just two ways.\n",
    "\n",
    "* The syntax for creating them uses parentheses instead of square brackets\n",
    "* They cannot be modified (they are immutable)."
   ]
  },
  {
   "cell_type": "code",
   "execution_count": 257,
   "id": "90106850",
   "metadata": {},
   "outputs": [],
   "source": [
    "l = [1, 2, 3]"
   ]
  },
  {
   "cell_type": "code",
   "execution_count": 259,
   "id": "9c9362f5",
   "metadata": {},
   "outputs": [
    {
     "data": {
      "text/plain": [
       "[0, 2, 3]"
      ]
     },
     "execution_count": 259,
     "metadata": {},
     "output_type": "execute_result"
    }
   ],
   "source": [
    "l[0] = 0\n",
    "l"
   ]
  },
  {
   "cell_type": "code",
   "execution_count": 260,
   "id": "0ef485e1",
   "metadata": {},
   "outputs": [],
   "source": [
    "t = (1, 2, 3)"
   ]
  },
  {
   "cell_type": "code",
   "execution_count": 262,
   "id": "6d8447a7",
   "metadata": {},
   "outputs": [
    {
     "ename": "TypeError",
     "evalue": "'tuple' object does not support item assignment",
     "output_type": "error",
     "traceback": [
      "\u001b[1;31m---------------------------------------------------------------------------\u001b[0m",
      "\u001b[1;31mTypeError\u001b[0m                                 Traceback (most recent call last)",
      "\u001b[1;32mC:\\Users\\LINTAN~1.PRA\\AppData\\Local\\Temp/ipykernel_9628/191694041.py\u001b[0m in \u001b[0;36m<module>\u001b[1;34m\u001b[0m\n\u001b[1;32m----> 1\u001b[1;33m \u001b[0mt\u001b[0m\u001b[1;33m[\u001b[0m\u001b[1;36m0\u001b[0m\u001b[1;33m]\u001b[0m \u001b[1;33m=\u001b[0m \u001b[1;36m0\u001b[0m\u001b[1;33m\u001b[0m\u001b[1;33m\u001b[0m\u001b[0m\n\u001b[0m",
      "\u001b[1;31mTypeError\u001b[0m: 'tuple' object does not support item assignment"
     ]
    }
   ],
   "source": [
    "t[0] = 0"
   ]
  },
  {
   "cell_type": "code",
   "execution_count": 255,
   "id": "338c65b2",
   "metadata": {},
   "outputs": [
    {
     "data": {
      "text/plain": [
       "[1, 2, 3, 4, 5]"
      ]
     },
     "execution_count": 255,
     "metadata": {},
     "output_type": "execute_result"
    }
   ],
   "source": [
    "l = [1,2,3,4,5]\n",
    "l"
   ]
  },
  {
   "cell_type": "code",
   "execution_count": 248,
   "id": "55832a3d",
   "metadata": {},
   "outputs": [],
   "source": [
    "l.insert(8, \"new\")"
   ]
  },
  {
   "cell_type": "code",
   "execution_count": 249,
   "id": "98e3069f",
   "metadata": {},
   "outputs": [
    {
     "data": {
      "text/plain": [
       "[1, 2, 3, 4, 5, 'new']"
      ]
     },
     "execution_count": 249,
     "metadata": {},
     "output_type": "execute_result"
    }
   ],
   "source": [
    "l"
   ]
  },
  {
   "cell_type": "code",
   "execution_count": 190,
   "id": "4c037686",
   "metadata": {},
   "outputs": [
    {
     "data": {
      "text/plain": [
       "(tuple, list)"
      ]
     },
     "execution_count": 190,
     "metadata": {},
     "output_type": "execute_result"
    }
   ],
   "source": [
    "type(t), type(l)"
   ]
  },
  {
   "cell_type": "code",
   "execution_count": 155,
   "id": "26628f77",
   "metadata": {},
   "outputs": [
    {
     "data": {
      "text/plain": [
       "(1, 2, 3)"
      ]
     },
     "execution_count": 155,
     "metadata": {},
     "output_type": "execute_result"
    }
   ],
   "source": [
    "t = 1, 2, 3 # equivalent to above\n",
    "t"
   ]
  },
  {
   "cell_type": "code",
   "execution_count": 171,
   "id": "ee47d787",
   "metadata": {},
   "outputs": [
    {
     "data": {
      "text/plain": [
       "[0, 2, 3]"
      ]
     },
     "execution_count": 171,
     "metadata": {},
     "output_type": "execute_result"
    }
   ],
   "source": [
    "l"
   ]
  },
  {
   "cell_type": "code",
   "execution_count": 170,
   "id": "e8ade46f",
   "metadata": {},
   "outputs": [],
   "source": [
    "l[0] = 0"
   ]
  },
  {
   "cell_type": "code",
   "execution_count": null,
   "id": "784b35af",
   "metadata": {},
   "outputs": [],
   "source": []
  },
  {
   "cell_type": "code",
   "execution_count": 172,
   "id": "a25feee6",
   "metadata": {},
   "outputs": [
    {
     "data": {
      "text/plain": [
       "(1, 2, 3)"
      ]
     },
     "execution_count": 172,
     "metadata": {},
     "output_type": "execute_result"
    }
   ],
   "source": [
    "t"
   ]
  },
  {
   "cell_type": "code",
   "execution_count": 174,
   "id": "9dfa7dde",
   "metadata": {},
   "outputs": [
    {
     "ename": "TypeError",
     "evalue": "'tuple' object does not support item assignment",
     "output_type": "error",
     "traceback": [
      "\u001b[1;31m---------------------------------------------------------------------------\u001b[0m",
      "\u001b[1;31mTypeError\u001b[0m                                 Traceback (most recent call last)",
      "\u001b[1;32mC:\\Users\\LINTAN~1.PRA\\AppData\\Local\\Temp/ipykernel_9628/191694041.py\u001b[0m in \u001b[0;36m<module>\u001b[1;34m\u001b[0m\n\u001b[1;32m----> 1\u001b[1;33m \u001b[0mt\u001b[0m\u001b[1;33m[\u001b[0m\u001b[1;36m0\u001b[0m\u001b[1;33m]\u001b[0m \u001b[1;33m=\u001b[0m \u001b[1;36m0\u001b[0m\u001b[1;33m\u001b[0m\u001b[1;33m\u001b[0m\u001b[0m\n\u001b[0m",
      "\u001b[1;31mTypeError\u001b[0m: 'tuple' object does not support item assignment"
     ]
    }
   ],
   "source": [
    "t[0] = 0"
   ]
  },
  {
   "cell_type": "code",
   "execution_count": 157,
   "id": "5815a52a",
   "metadata": {},
   "outputs": [],
   "source": [
    "#t[0] = 100"
   ]
  },
  {
   "cell_type": "code",
   "execution_count": 178,
   "id": "3438b066",
   "metadata": {},
   "outputs": [
    {
     "data": {
      "text/plain": [
       "(1, 2, 3, 4)"
      ]
     },
     "execution_count": 178,
     "metadata": {},
     "output_type": "execute_result"
    }
   ],
   "source": [
    "t =(1,2,3) \n",
    "z=(4,)\n",
    "t+=z\n",
    "\n",
    "t"
   ]
  },
  {
   "cell_type": "code",
   "execution_count": 187,
   "id": "20ae64a6",
   "metadata": {},
   "outputs": [],
   "source": [
    "t =(1,2,3) \n",
    "z=(4,)\n",
    "t+=z\n",
    "\n",
    "\n",
    "a = list(t)\n",
    "\n",
    "a[2] = 5 \n",
    "t =tuple(a)\n"
   ]
  },
  {
   "cell_type": "code",
   "execution_count": 188,
   "id": "7c9f37c9",
   "metadata": {},
   "outputs": [
    {
     "data": {
      "text/plain": [
       "(1, 2, 5, 4)"
      ]
     },
     "execution_count": 188,
     "metadata": {},
     "output_type": "execute_result"
    }
   ],
   "source": [
    "t"
   ]
  },
  {
   "cell_type": "code",
   "execution_count": 184,
   "id": "0844521e",
   "metadata": {},
   "outputs": [
    {
     "name": "stdout",
     "output_type": "stream",
     "text": [
      "1.txt\n",
      "2.txt\n",
      "3.txt\n"
     ]
    }
   ],
   "source": [
    "import os\n",
    "\n",
    "dir_list = os.listdir('D:\\\\Python\\\\Binar Python\\\\test')\n",
    "\n",
    "for i in dir_list:\n",
    "    print(i) ##--> program"
   ]
  },
  {
   "cell_type": "code",
   "execution_count": null,
   "id": "c030a094",
   "metadata": {},
   "outputs": [],
   "source": []
  },
  {
   "cell_type": "code",
   "execution_count": 185,
   "id": "15d0b374",
   "metadata": {},
   "outputs": [
    {
     "data": {
      "text/plain": [
       "['1.txt', '2.txt', '3.txt']"
      ]
     },
     "execution_count": 185,
     "metadata": {},
     "output_type": "execute_result"
    }
   ],
   "source": [
    "dir_list"
   ]
  },
  {
   "cell_type": "markdown",
   "id": "1288b7ce",
   "metadata": {},
   "source": [
    "## 6. Dictionaries\n",
    "\n",
    "Dictionaries are a built-in Python data structure for mapping keys to values."
   ]
  },
  {
   "cell_type": "code",
   "execution_count": 194,
   "id": "24c7a302",
   "metadata": {},
   "outputs": [
    {
     "data": {
      "text/plain": [
       "{'one': [1, 2], 'two': 2, 'three': 3}"
      ]
     },
     "execution_count": 194,
     "metadata": {},
     "output_type": "execute_result"
    }
   ],
   "source": [
    "numbers = {\n",
    "        'one':[1,2], \n",
    "        'two':2, \n",
    "        'three':3\n",
    "}\n",
    "numbers"
   ]
  },
  {
   "cell_type": "code",
   "execution_count": 207,
   "id": "c2cbbc9c",
   "metadata": {},
   "outputs": [
    {
     "data": {
      "text/plain": [
       "{'one': [1, 2], 'two': 2, 'three': 3}"
      ]
     },
     "execution_count": 207,
     "metadata": {},
     "output_type": "execute_result"
    }
   ],
   "source": [
    "numbers = {\n",
    "        'one':[1,2], \n",
    "        'two':2, \n",
    "        'three':3\n",
    "}\n",
    "numbers"
   ]
  },
  {
   "cell_type": "code",
   "execution_count": 208,
   "id": "e338f6e6",
   "metadata": {},
   "outputs": [
    {
     "data": {
      "text/plain": [
       "dict"
      ]
     },
     "execution_count": 208,
     "metadata": {},
     "output_type": "execute_result"
    }
   ],
   "source": [
    "type(numbers)"
   ]
  },
  {
   "cell_type": "markdown",
   "id": "dfb658a6",
   "metadata": {},
   "source": [
    "In this case 'one', 'two', and 'three' are the keys, and 1, 2 and 3 are their corresponding values.\n",
    "\n",
    "Values are accessed via square bracket syntax similar to indexing into lists and strings."
   ]
  },
  {
   "cell_type": "code",
   "execution_count": 223,
   "id": "976882b8",
   "metadata": {},
   "outputs": [
    {
     "data": {
      "text/plain": [
       "{'one': [1, 2], 'two': 2, 'three': 3, 'eleven': [11, 12, 13]}"
      ]
     },
     "execution_count": 223,
     "metadata": {},
     "output_type": "execute_result"
    }
   ],
   "source": [
    "numbers"
   ]
  },
  {
   "cell_type": "code",
   "execution_count": 226,
   "id": "6424b1da",
   "metadata": {},
   "outputs": [
    {
     "data": {
      "text/plain": [
       "3"
      ]
     },
     "execution_count": 226,
     "metadata": {},
     "output_type": "execute_result"
    }
   ],
   "source": [
    "numbers['three']"
   ]
  },
  {
   "cell_type": "markdown",
   "id": "09c2964b",
   "metadata": {},
   "source": [
    "We can use the same syntax to add another key, value pair Or to change the value associated with an existing key"
   ]
  },
  {
   "cell_type": "code",
   "execution_count": 213,
   "id": "0dc977a3",
   "metadata": {},
   "outputs": [
    {
     "data": {
      "text/plain": [
       "{'one': [1, 2], 'two': 2, 'three': 3, 'eleven': [11, 12, 13]}"
      ]
     },
     "execution_count": 213,
     "metadata": {},
     "output_type": "execute_result"
    }
   ],
   "source": [
    "numbers['eleven'] = [11 , 12, 13]\n",
    "numbers"
   ]
  },
  {
   "cell_type": "code",
   "execution_count": 215,
   "id": "9c8d09ca",
   "metadata": {},
   "outputs": [
    {
     "data": {
      "text/plain": [
       "{'one': [1, 2], 'two': 2, 'three': 3, 'eleven': [11, 12, 13]}"
      ]
     },
     "execution_count": 215,
     "metadata": {},
     "output_type": "execute_result"
    }
   ],
   "source": [
    "numbers['one'] = [1, 2]\n",
    "numbers"
   ]
  },
  {
   "cell_type": "code",
   "execution_count": 263,
   "id": "baf06efb",
   "metadata": {},
   "outputs": [],
   "source": [
    "l = [1,2,3]"
   ]
  },
  {
   "cell_type": "code",
   "execution_count": 264,
   "id": "ed8a1795",
   "metadata": {},
   "outputs": [
    {
     "data": {
      "text/plain": [
       "1"
      ]
     },
     "execution_count": 264,
     "metadata": {},
     "output_type": "execute_result"
    }
   ],
   "source": [
    "l[0]"
   ]
  },
  {
   "cell_type": "code",
   "execution_count": 286,
   "id": "3919fe8f",
   "metadata": {},
   "outputs": [
    {
     "data": {
      "text/plain": [
       "{'one': 'ini adalah nilai dari pk one',\n",
       " 'two': 'ini adalah nilai dari pk two',\n",
       " 'three': 'ini adalah nilai dari pk three'}"
      ]
     },
     "execution_count": 286,
     "metadata": {},
     "output_type": "execute_result"
    }
   ],
   "source": [
    "numbers = {\n",
    "        'one':'ini adalah nilai dari pk one', \n",
    "        'two':'ini adalah nilai dari pk two', \n",
    "        'three':'ini adalah nilai dari pk three'\n",
    "}\n",
    "numbers"
   ]
  },
  {
   "cell_type": "code",
   "execution_count": 287,
   "id": "b500d86d",
   "metadata": {},
   "outputs": [
    {
     "data": {
      "text/plain": [
       "'ini adalah nilai dari pk three'"
      ]
     },
     "execution_count": 287,
     "metadata": {},
     "output_type": "execute_result"
    }
   ],
   "source": [
    "numbers.pop('three')"
   ]
  },
  {
   "cell_type": "code",
   "execution_count": 288,
   "id": "748c78ae",
   "metadata": {},
   "outputs": [
    {
     "data": {
      "text/plain": [
       "{'one': 'ini adalah nilai dari pk one', 'two': 'ini adalah nilai dari pk two'}"
      ]
     },
     "execution_count": 288,
     "metadata": {},
     "output_type": "execute_result"
    }
   ],
   "source": [
    "numbers"
   ]
  },
  {
   "cell_type": "code",
   "execution_count": null,
   "id": "b94821ca",
   "metadata": {},
   "outputs": [],
   "source": [
    "#Start"
   ]
  },
  {
   "cell_type": "markdown",
   "id": "a7b93848",
   "metadata": {},
   "source": [
    "Python has dictionary comprehensions with a syntax similar to the list comprehensions we saw in the previous tutorial."
   ]
  },
  {
   "cell_type": "code",
   "execution_count": 289,
   "id": "dc5c4883",
   "metadata": {},
   "outputs": [],
   "source": [
    "planet_to_initial = {\n",
    "    'Mercury': 'M',\n",
    "     'Venus': 'V',\n",
    "     'Earth': 'E',\n",
    "     'Mars': 'M',\n",
    "     'Jupiter': 'J',\n",
    "     'Saturn': 'S',\n",
    "     'Uranus': 'U',\n",
    "     'Neptune': 'N'}"
   ]
  },
  {
   "cell_type": "code",
   "execution_count": 290,
   "id": "cdbd64a7",
   "metadata": {},
   "outputs": [
    {
     "data": {
      "text/plain": [
       "{'Mercury': 'M',\n",
       " 'Venus': 'V',\n",
       " 'Earth': 'E',\n",
       " 'Mars': 'M',\n",
       " 'Jupiter': 'J',\n",
       " 'Saturn': 'S',\n",
       " 'Uranus': 'U',\n",
       " 'Neptune': 'N'}"
      ]
     },
     "execution_count": 290,
     "metadata": {},
     "output_type": "execute_result"
    }
   ],
   "source": [
    "planet_to_initial"
   ]
  },
  {
   "cell_type": "code",
   "execution_count": 291,
   "id": "2906a36f",
   "metadata": {},
   "outputs": [
    {
     "data": {
      "text/plain": [
       "True"
      ]
     },
     "execution_count": 291,
     "metadata": {},
     "output_type": "execute_result"
    }
   ],
   "source": [
    "'Saturn' in planet_to_initial"
   ]
  },
  {
   "cell_type": "code",
   "execution_count": 292,
   "id": "ba8dd777",
   "metadata": {},
   "outputs": [
    {
     "data": {
      "text/plain": [
       "False"
      ]
     },
     "execution_count": 292,
     "metadata": {},
     "output_type": "execute_result"
    }
   ],
   "source": [
    "'Betelgeuse' in planet_to_initial"
   ]
  },
  {
   "cell_type": "code",
   "execution_count": null,
   "id": "413d7d07",
   "metadata": {},
   "outputs": [],
   "source": []
  },
  {
   "cell_type": "code",
   "execution_count": null,
   "id": "a1083b91",
   "metadata": {},
   "outputs": [],
   "source": []
  },
  {
   "cell_type": "code",
   "execution_count": 293,
   "id": "cc1ad0f8",
   "metadata": {},
   "outputs": [
    {
     "data": {
      "text/plain": [
       "{'Brand': ['Brio', 'Jazz', 'HRV', 'CRV', 'Civic', 'Mobilio', 'BRV', 'City'],\n",
       " 'Price': [148, 252, 300, 467, 536, 205, 251, 355]}"
      ]
     },
     "execution_count": 293,
     "metadata": {},
     "output_type": "execute_result"
    }
   ],
   "source": [
    "cars = {'Brand': \n",
    "        ['Brio','Jazz','HRV','CRV','Civic','Mobilio','BRV','City'],\n",
    "        'Price': [148,252,300,467,536,205,251,355]\n",
    "        }\n",
    "\n",
    "cars"
   ]
  },
  {
   "cell_type": "code",
   "execution_count": 39,
   "id": "d226a5dc",
   "metadata": {},
   "outputs": [
    {
     "data": {
      "text/plain": [
       "{'Brand': ['Brio', 'Jazz', 'HRV', 'CRV', 'Civic', 'Mobilio', 'BRV', 'City'],\n",
       " 'Price': [148, 252, 300, 467, 536, 205, 251, 355]}"
      ]
     },
     "execution_count": 39,
     "metadata": {},
     "output_type": "execute_result"
    }
   ],
   "source": [
    "cars"
   ]
  },
  {
   "cell_type": "code",
   "execution_count": 40,
   "id": "8847c893",
   "metadata": {},
   "outputs": [
    {
     "data": {
      "text/plain": [
       "['Brio', 'Jazz', 'HRV', 'CRV', 'Civic', 'Mobilio', 'BRV', 'City']"
      ]
     },
     "execution_count": 40,
     "metadata": {},
     "output_type": "execute_result"
    }
   ],
   "source": [
    "cars['Brand']"
   ]
  },
  {
   "cell_type": "code",
   "execution_count": 41,
   "id": "b8d61fd7",
   "metadata": {},
   "outputs": [
    {
     "data": {
      "text/plain": [
       "'Jazz'"
      ]
     },
     "execution_count": 41,
     "metadata": {},
     "output_type": "execute_result"
    }
   ],
   "source": [
    "cars['Brand'][1]"
   ]
  },
  {
   "cell_type": "code",
   "execution_count": 294,
   "id": "a12703e8",
   "metadata": {},
   "outputs": [],
   "source": []
  },
  {
   "cell_type": "code",
   "execution_count": 305,
   "id": "69df30ef",
   "metadata": {},
   "outputs": [],
   "source": [
    "import pandas as pd\n",
    "\n",
    "cars = {'Brand': \n",
    "        ['Brio','Jazz','HRV','CRV','Civic','Mobilio','BRV','City'],\n",
    "        'Price': [148,252,300,467,536,205,251,355]\n",
    "        }\n",
    "\n",
    "df = pd.DataFrame.from_dict(cars)"
   ]
  },
  {
   "cell_type": "code",
   "execution_count": 299,
   "id": "b8337662",
   "metadata": {},
   "outputs": [
    {
     "data": {
      "text/html": [
       "<div>\n",
       "<style scoped>\n",
       "    .dataframe tbody tr th:only-of-type {\n",
       "        vertical-align: middle;\n",
       "    }\n",
       "\n",
       "    .dataframe tbody tr th {\n",
       "        vertical-align: top;\n",
       "    }\n",
       "\n",
       "    .dataframe thead th {\n",
       "        text-align: right;\n",
       "    }\n",
       "</style>\n",
       "<table border=\"1\" class=\"dataframe\">\n",
       "  <thead>\n",
       "    <tr style=\"text-align: right;\">\n",
       "      <th></th>\n",
       "      <th>Brand</th>\n",
       "      <th>Price</th>\n",
       "    </tr>\n",
       "  </thead>\n",
       "  <tbody>\n",
       "    <tr>\n",
       "      <th>0</th>\n",
       "      <td>Brio</td>\n",
       "      <td>148</td>\n",
       "    </tr>\n",
       "    <tr>\n",
       "      <th>1</th>\n",
       "      <td>Jazz</td>\n",
       "      <td>252</td>\n",
       "    </tr>\n",
       "    <tr>\n",
       "      <th>2</th>\n",
       "      <td>HRV</td>\n",
       "      <td>300</td>\n",
       "    </tr>\n",
       "    <tr>\n",
       "      <th>3</th>\n",
       "      <td>CRV</td>\n",
       "      <td>467</td>\n",
       "    </tr>\n",
       "    <tr>\n",
       "      <th>4</th>\n",
       "      <td>Civic</td>\n",
       "      <td>536</td>\n",
       "    </tr>\n",
       "    <tr>\n",
       "      <th>5</th>\n",
       "      <td>Mobilio</td>\n",
       "      <td>205</td>\n",
       "    </tr>\n",
       "    <tr>\n",
       "      <th>6</th>\n",
       "      <td>BRV</td>\n",
       "      <td>251</td>\n",
       "    </tr>\n",
       "    <tr>\n",
       "      <th>7</th>\n",
       "      <td>City</td>\n",
       "      <td>355</td>\n",
       "    </tr>\n",
       "  </tbody>\n",
       "</table>\n",
       "</div>"
      ],
      "text/plain": [
       "     Brand  Price\n",
       "0     Brio    148\n",
       "1     Jazz    252\n",
       "2      HRV    300\n",
       "3      CRV    467\n",
       "4    Civic    536\n",
       "5  Mobilio    205\n",
       "6      BRV    251\n",
       "7     City    355"
      ]
     },
     "execution_count": 299,
     "metadata": {},
     "output_type": "execute_result"
    }
   ],
   "source": [
    "df"
   ]
  },
  {
   "cell_type": "code",
   "execution_count": null,
   "id": "cd19c558",
   "metadata": {},
   "outputs": [],
   "source": []
  },
  {
   "cell_type": "code",
   "execution_count": 302,
   "id": "ef2486a6",
   "metadata": {},
   "outputs": [
    {
     "data": {
      "text/plain": [
       "{'one': 1,\n",
       " 'two': 2,\n",
       " 'three': 3,\n",
       " 'dict': {'1': ['satu', 'dua'], '2': 'dua', '3': 'tiga'}}"
      ]
     },
     "execution_count": 302,
     "metadata": {},
     "output_type": "execute_result"
    }
   ],
   "source": [
    "numbers = {\n",
    "        'one':1, \n",
    "        'two':2, \n",
    "        'three':3,\n",
    "        'dict' : {\n",
    "                    '1':['satu','dua'], \n",
    "                    '2':'dua', \n",
    "                    '3':'tiga'\n",
    "                }\n",
    "}\n",
    "\n",
    "numbers"
   ]
  },
  {
   "cell_type": "code",
   "execution_count": 303,
   "id": "26ca9581",
   "metadata": {},
   "outputs": [
    {
     "data": {
      "text/html": [
       "<div>\n",
       "<style scoped>\n",
       "    .dataframe tbody tr th:only-of-type {\n",
       "        vertical-align: middle;\n",
       "    }\n",
       "\n",
       "    .dataframe tbody tr th {\n",
       "        vertical-align: top;\n",
       "    }\n",
       "\n",
       "    .dataframe thead th {\n",
       "        text-align: right;\n",
       "    }\n",
       "</style>\n",
       "<table border=\"1\" class=\"dataframe\">\n",
       "  <thead>\n",
       "    <tr style=\"text-align: right;\">\n",
       "      <th></th>\n",
       "      <th>one</th>\n",
       "      <th>two</th>\n",
       "      <th>three</th>\n",
       "      <th>dict</th>\n",
       "    </tr>\n",
       "  </thead>\n",
       "  <tbody>\n",
       "    <tr>\n",
       "      <th>1</th>\n",
       "      <td>1</td>\n",
       "      <td>2</td>\n",
       "      <td>3</td>\n",
       "      <td>[satu, dua]</td>\n",
       "    </tr>\n",
       "    <tr>\n",
       "      <th>2</th>\n",
       "      <td>1</td>\n",
       "      <td>2</td>\n",
       "      <td>3</td>\n",
       "      <td>dua</td>\n",
       "    </tr>\n",
       "    <tr>\n",
       "      <th>3</th>\n",
       "      <td>1</td>\n",
       "      <td>2</td>\n",
       "      <td>3</td>\n",
       "      <td>tiga</td>\n",
       "    </tr>\n",
       "  </tbody>\n",
       "</table>\n",
       "</div>"
      ],
      "text/plain": [
       "   one  two  three         dict\n",
       "1    1    2      3  [satu, dua]\n",
       "2    1    2      3          dua\n",
       "3    1    2      3         tiga"
      ]
     },
     "execution_count": 303,
     "metadata": {},
     "output_type": "execute_result"
    }
   ],
   "source": [
    "df = pd.DataFrame.from_dict(numbers)\n",
    "df"
   ]
  },
  {
   "cell_type": "code",
   "execution_count": 311,
   "id": "83978381",
   "metadata": {},
   "outputs": [
    {
     "data": {
      "text/plain": [
       "3"
      ]
     },
     "execution_count": 311,
     "metadata": {},
     "output_type": "execute_result"
    }
   ],
   "source": [
    "numbers = {\n",
    "        'one':1, \n",
    "        'two':2, \n",
    "        'three':3\n",
    "}\n",
    "numbers['three_'] = numbers['three']\n",
    "numbers.pop('three')"
   ]
  },
  {
   "cell_type": "code",
   "execution_count": 313,
   "id": "c0050da0",
   "metadata": {},
   "outputs": [],
   "source": [
    "numbers['hallo'] = numbers.pop('one')"
   ]
  },
  {
   "cell_type": "code",
   "execution_count": 314,
   "id": "3af41fd0",
   "metadata": {},
   "outputs": [
    {
     "data": {
      "text/plain": [
       "{'two': 2, 'three_': 3, 'hallo': 1}"
      ]
     },
     "execution_count": 314,
     "metadata": {},
     "output_type": "execute_result"
    }
   ],
   "source": [
    "numbers"
   ]
  },
  {
   "cell_type": "code",
   "execution_count": null,
   "id": "0edba86b",
   "metadata": {},
   "outputs": [],
   "source": []
  }
 ],
 "metadata": {
  "kernelspec": {
   "display_name": "Python 3 (ipykernel)",
   "language": "python",
   "name": "python3"
  },
  "language_info": {
   "codemirror_mode": {
    "name": "ipython",
    "version": 3
   },
   "file_extension": ".py",
   "mimetype": "text/x-python",
   "name": "python",
   "nbconvert_exporter": "python",
   "pygments_lexer": "ipython3",
   "version": "3.9.7"
  }
 },
 "nbformat": 4,
 "nbformat_minor": 5
}
