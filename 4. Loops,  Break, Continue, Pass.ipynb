{
 "cells": [
  {
   "cell_type": "markdown",
   "id": "8c35acc5",
   "metadata": {},
   "source": [
    "## Loops\n"
   ]
  },
  {
   "cell_type": "markdown",
   "id": "3b524c4e",
   "metadata": {},
   "source": [
    "## 1. Loops\n",
    "\n",
    "Loops are a way to repeatedly execute some code. Here's an example:"
   ]
  },
  {
   "cell_type": "code",
   "execution_count": 1,
   "id": "b024b854",
   "metadata": {},
   "outputs": [
    {
     "name": "stdout",
     "output_type": "stream",
     "text": [
      "Mercury\n",
      "Venus\n",
      "Earth\n",
      "Mars\n",
      "Jupiter\n",
      "Saturn\n",
      "Uranus\n",
      "Neptune\n"
     ]
    }
   ],
   "source": [
    "planets = ['Mercury', 'Venus', 'Earth', 'Mars', 'Jupiter', 'Saturn', 'Uranus', 'Neptune']\n",
    "for i in planets:\n",
    "    print(i) \n",
    "    \n",
    "# print all on same line"
   ]
  },
  {
   "cell_type": "code",
   "execution_count": 2,
   "id": "aec5f715",
   "metadata": {},
   "outputs": [
    {
     "name": "stdout",
     "output_type": "stream",
     "text": [
      "Mercury Venus Earth Mars Jupiter Saturn Uranus Neptune "
     ]
    }
   ],
   "source": [
    "planets = ['Mercury', 'Venus', 'Earth', 'Mars', 'Jupiter', 'Saturn', 'Uranus', 'Neptune']\n",
    "for planet in planets:\n",
    "    print(planet, end=' ') \n",
    "    \n",
    "# print all on same line"
   ]
  },
  {
   "cell_type": "code",
   "execution_count": 3,
   "id": "a946cf58",
   "metadata": {},
   "outputs": [
    {
     "name": "stdout",
     "output_type": "stream",
     "text": [
      "2 genap dan nomor baru adalah\n",
      "4 genap dan nomor baru adalah\n",
      "6 genap dan nomor baru adalah\n"
     ]
    }
   ],
   "source": [
    "a = [1,2,3,4,5,6]\n",
    "\n",
    "for nomor in a:\n",
    "    if nomor % 2 == 0:\n",
    "        print('{} genap'.format(nomor)"
   ]
  },
  {
   "cell_type": "markdown",
   "id": "87ac0934",
   "metadata": {},
   "source": [
    "You use the word ```in``` to link them together.\n",
    "\n",
    "The object to the right of the ```in``` can be any object that supports iteration. Basically, if it can be thought of as a group of things, you can probably loop over it. In addition to lists, we can iterate over the elements of a list:"
   ]
  },
  {
   "cell_type": "code",
   "execution_count": 10,
   "id": "853e5538",
   "metadata": {},
   "outputs": [
    {
     "name": "stdout",
     "output_type": "stream",
     "text": [
      "ini adalah iterasi ke 1\n",
      "ini adalah product lama 1\n",
      "ini adalah product baru 1\n",
      "----------------------------------------------\n",
      "ini adalah iterasi ke 2\n",
      "ini adalah product lama 1\n",
      "ini adalah product baru 2\n",
      "----------------------------------------------\n",
      "ini adalah iterasi ke 3\n",
      "ini adalah product lama 2\n",
      "ini adalah product baru 6\n",
      "----------------------------------------------\n",
      "ini adalah iterasi ke 4\n",
      "ini adalah product lama 6\n",
      "ini adalah product baru 24\n",
      "----------------------------------------------\n",
      "ini adalah iterasi ke 5\n",
      "ini adalah product lama 24\n",
      "ini adalah product baru 120\n",
      "----------------------------------------------\n",
      "ini adalah iterasi ke 6\n",
      "ini adalah product lama 120\n",
      "ini adalah product baru 720\n",
      "----------------------------------------------\n"
     ]
    },
    {
     "data": {
      "text/plain": [
       "720"
      ]
     },
     "execution_count": 10,
     "metadata": {},
     "output_type": "execute_result"
    }
   ],
   "source": [
    "product = 1\n",
    "multiplicands = [1, 2, 3, 4, 5, 6]\n",
    "x = 1\n",
    "for mult in multiplicands:\n",
    "    print('ini adalah iterasi ke {}'.format(x))\n",
    "    x = x + 1\n",
    "    print('ini adalah product lama {}'.format(product))\n",
    "    product = product * mult\n",
    "    print('ini adalah product baru {}'.format(product))\n",
    "    print('----------------------------------------------')\n",
    "\n",
    "product"
   ]
  },
  {
   "cell_type": "markdown",
   "id": "10d4c23a",
   "metadata": {},
   "source": [
    "You can even loop through each character in a string:"
   ]
  },
  {
   "cell_type": "code",
   "execution_count": null,
   "id": "75c9c64a",
   "metadata": {},
   "outputs": [],
   "source": [
    "s = 'steganograpHy is the practicE of conceaLing a file, message, image, or video within another fiLe, message, image, Or video.'\n",
    "msg = ''\n",
    "# print all the uppercase letters in s, one at a time\n",
    "for char in s:\n",
    "    if char.isupper():\n",
    "        print(char, end='')   "
   ]
  },
  {
   "cell_type": "markdown",
   "id": "6a4079d5",
   "metadata": {},
   "source": [
    "## 2. While Loops\n",
    "\n",
    "The other type of loop in Python is a while loop, which iterates until some condition is met:"
   ]
  },
  {
   "cell_type": "code",
   "execution_count": 14,
   "id": "88061055",
   "metadata": {},
   "outputs": [
    {
     "name": "stdout",
     "output_type": "stream",
     "text": [
      "0\n",
      "1\n",
      "2\n",
      "3\n",
      "4\n",
      "5\n",
      "6\n",
      "7\n",
      "8\n",
      "9\n"
     ]
    }
   ],
   "source": [
    "i = 0\n",
    "while i < 10:\n",
    "#     print(i, end=' ')\n",
    "    print(i)\n",
    "#     i += 1 # increase the value of i by 1\n",
    "    i = i + 1"
   ]
  },
  {
   "cell_type": "code",
   "execution_count": null,
   "id": "a1d9be66",
   "metadata": {},
   "outputs": [],
   "source": []
  },
  {
   "cell_type": "markdown",
   "id": "b5572b73",
   "metadata": {},
   "source": [
    "## Break, Continue, Pass"
   ]
  },
  {
   "cell_type": "code",
   "execution_count": 15,
   "id": "57abbcaa",
   "metadata": {},
   "outputs": [],
   "source": [
    "list_number = [0,1,2,3,4,5,6,7,8,9]"
   ]
  },
  {
   "cell_type": "code",
   "execution_count": 23,
   "id": "0fc91914",
   "metadata": {},
   "outputs": [
    {
     "name": "stdout",
     "output_type": "stream",
     "text": [
      "0\n",
      "1\n",
      "2\n",
      "3\n",
      "4\n",
      "5\n",
      "6\n",
      "7\n",
      "8\n",
      "9\n"
     ]
    }
   ],
   "source": [
    "for i in list_number:\n",
    "    print(i)"
   ]
  },
  {
   "cell_type": "markdown",
   "id": "73300f7c",
   "metadata": {},
   "source": [
    "## Break"
   ]
  },
  {
   "cell_type": "markdown",
   "id": "b75ec46d",
   "metadata": {},
   "source": [
    "The break statement is used to terminate the loop or statement in which it is present. \n",
    "\n",
    "After that, the control will pass to the statements that are present after the break statement, if available. \n",
    "\n",
    "If the break statement is present in the nested loop, then it terminates only those loops which contains break statement."
   ]
  },
  {
   "cell_type": "code",
   "execution_count": 17,
   "id": "2acb147b",
   "metadata": {},
   "outputs": [
    {
     "name": "stdout",
     "output_type": "stream",
     "text": [
      "0\n",
      "1\n",
      "2\n",
      "3\n",
      "4\n"
     ]
    }
   ],
   "source": [
    "for i in list_number:\n",
    "    if i == 5:\n",
    "        break\n",
    "    print(i)"
   ]
  },
  {
   "cell_type": "markdown",
   "id": "ec50855e",
   "metadata": {},
   "source": [
    "# Continue"
   ]
  },
  {
   "cell_type": "markdown",
   "id": "38894d03",
   "metadata": {},
   "source": [
    "Continue is also a loop control statement just like the break statement. \n",
    "\n",
    "Continue statement is opposite to that of break statement, instead of terminating the loop, it forces to execute the next iteration of the loop.\n",
    "\n",
    "As the name suggests the continue statement forces the loop to continue or execute the next iteration. When the continue statement is executed in the loop, the code inside the loop following the continue statement will be skipped and the next iteration of the loop will begin."
   ]
  },
  {
   "cell_type": "code",
   "execution_count": 26,
   "id": "429fcf7c",
   "metadata": {},
   "outputs": [
    {
     "name": "stdout",
     "output_type": "stream",
     "text": [
      "0\n",
      "1\n",
      "2\n",
      "3\n",
      "4\n",
      "6\n",
      "7\n",
      "8\n",
      "9\n"
     ]
    }
   ],
   "source": [
    "for i in list_number:\n",
    "    if i != 5:\n",
    "        print(i)\n",
    "        continue"
   ]
  },
  {
   "cell_type": "markdown",
   "id": "ccbbe19b",
   "metadata": {},
   "source": [
    "## Pass"
   ]
  },
  {
   "cell_type": "markdown",
   "id": "7d90c99e",
   "metadata": {},
   "source": [
    "As the name suggests pass statement simply does nothing. \n",
    "The pass statement in Python is used when a statement is required syntactically but you do not want any command or code to execute. \n",
    "It is like null operation, as nothing will happen is it is executed. Pass statement can also be used for writing empty loops. Pass is also used for empty control statement, function and classes."
   ]
  },
  {
   "cell_type": "code",
   "execution_count": 27,
   "id": "bda0d05a",
   "metadata": {},
   "outputs": [
    {
     "name": "stdout",
     "output_type": "stream",
     "text": [
      "5\n",
      "6\n",
      "7\n",
      "8\n",
      "9\n"
     ]
    }
   ],
   "source": [
    "for i in list_number:\n",
    "    if i >= 5:\n",
    "        print(i)\n",
    "    else:\n",
    "        pass"
   ]
  },
  {
   "cell_type": "code",
   "execution_count": 28,
   "id": "353eaf7f",
   "metadata": {},
   "outputs": [
    {
     "name": "stdout",
     "output_type": "stream",
     "text": [
      "5\n",
      "6\n",
      "7\n",
      "8\n",
      "9\n"
     ]
    }
   ],
   "source": [
    "for i in list_number:\n",
    "    if i >= 5:\n",
    "        print(i)"
   ]
  },
  {
   "cell_type": "code",
   "execution_count": null,
   "id": "899c6000",
   "metadata": {},
   "outputs": [],
   "source": []
  }
 ],
 "metadata": {
  "kernelspec": {
   "display_name": "Python 3 (ipykernel)",
   "language": "python",
   "name": "python3"
  },
  "language_info": {
   "codemirror_mode": {
    "name": "ipython",
    "version": 3
   },
   "file_extension": ".py",
   "mimetype": "text/x-python",
   "name": "python",
   "nbconvert_exporter": "python",
   "pygments_lexer": "ipython3",
   "version": "3.9.7"
  }
 },
 "nbformat": 4,
 "nbformat_minor": 5
}
