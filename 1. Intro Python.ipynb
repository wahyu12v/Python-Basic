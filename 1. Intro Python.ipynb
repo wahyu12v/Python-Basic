{
 "cells": [
  {
   "cell_type": "markdown",
   "id": "1fdb701b",
   "metadata": {},
   "source": [
    "Install Python Windows\n",
    "https://www.youtube.com/watch?v=OSmaWPSgvTQ\n",
    "    \n",
    "Install Python Mac\n",
    "https://www.youtube.com/watch?v=HSAm6s10G7g\n",
    "\n",
    "Install Jupyter (pip install jupyterlab)\n",
    "https://jupyter.org/install"
   ]
  },
  {
   "cell_type": "markdown",
   "id": "721b0f20",
   "metadata": {},
   "source": [
    "## 1. Hello World\n",
    "\n",
    "\n",
    "One of the simplest (and most important!) tasks you can ask a computer to do is to print a message."
   ]
  },
  {
   "cell_type": "code",
   "execution_count": 2,
   "id": "fa9460bf",
   "metadata": {},
   "outputs": [
    {
     "name": "stdout",
     "output_type": "stream",
     "text": [
      "hello binar wave-6\n"
     ]
    }
   ],
   "source": [
    "print('hello binar wave-6')"
   ]
  },
  {
   "cell_type": "code",
   "execution_count": null,
   "id": "7fd3b840",
   "metadata": {},
   "outputs": [],
   "source": []
  },
  {
   "cell_type": "code",
   "execution_count": null,
   "id": "4a815e8c",
   "metadata": {},
   "outputs": [],
   "source": []
  },
  {
   "cell_type": "code",
   "execution_count": 6,
   "id": "a7e83646",
   "metadata": {},
   "outputs": [
    {
     "name": "stdout",
     "output_type": "stream",
     "text": [
      "Hello world\n"
     ]
    }
   ],
   "source": [
    "print('Hello world')"
   ]
  },
  {
   "cell_type": "code",
   "execution_count": 7,
   "id": "d3e3b670",
   "metadata": {},
   "outputs": [],
   "source": [
    "a = 'Hello World Peserta'\n",
    "#print(a)"
   ]
  },
  {
   "cell_type": "code",
   "execution_count": 8,
   "id": "b6627f6b",
   "metadata": {},
   "outputs": [],
   "source": [
    "b = 'Hello World Siswa'\n",
    "#print(a)"
   ]
  },
  {
   "cell_type": "code",
   "execution_count": 9,
   "id": "bccb1048",
   "metadata": {},
   "outputs": [
    {
     "name": "stdout",
     "output_type": "stream",
     "text": [
      "Hello World Peserta\n"
     ]
    }
   ],
   "source": [
    "print(a)"
   ]
  },
  {
   "cell_type": "code",
   "execution_count": null,
   "id": "06ca839b",
   "metadata": {},
   "outputs": [],
   "source": [
    "print(f'{a} Gilang')"
   ]
  },
  {
   "cell_type": "code",
   "execution_count": null,
   "id": "4896ab2f",
   "metadata": {},
   "outputs": [],
   "source": [
    "print('{} Gilang'.format(b))"
   ]
  },
  {
   "cell_type": "code",
   "execution_count": null,
   "id": "f8aafbfb",
   "metadata": {},
   "outputs": [],
   "source": [
    "a = 'Junio'\n",
    "b = 'DS'\n",
    "c = 'Binar'"
   ]
  },
  {
   "cell_type": "code",
   "execution_count": null,
   "id": "997f4b35",
   "metadata": {},
   "outputs": [],
   "source": [
    "print(f'mas {a} adalah siswa {b} di bootcamp {c}')"
   ]
  },
  {
   "cell_type": "code",
   "execution_count": null,
   "id": "d6412c28",
   "metadata": {},
   "outputs": [],
   "source": [
    "print('Mas {} adalah siswa {} di bootcamp {}'.format(a,b,c))"
   ]
  },
  {
   "cell_type": "markdown",
   "id": "81c65969",
   "metadata": {},
   "source": [
    "## 2. Arithmetic\n",
    "\n",
    "\n",
    "We can also print the value of some arithmetic operation (such as addition, subtraction, multiplication, or division).\n",
    "\n",
    "In general, Python follows the PEMDAS rule when deciding the order of operations.\n",
    "\n",
    "https://www.mathsisfun.com/operation-order-pemdas.html"
   ]
  },
  {
   "cell_type": "code",
   "execution_count": null,
   "id": "4d9821d1",
   "metadata": {},
   "outputs": [],
   "source": [
    "type(1 + 2)"
   ]
  },
  {
   "cell_type": "code",
   "execution_count": null,
   "id": "7550a9d9",
   "metadata": {},
   "outputs": [],
   "source": [
    "type(9 - 3)"
   ]
  },
  {
   "cell_type": "code",
   "execution_count": null,
   "id": "9d145bce",
   "metadata": {},
   "outputs": [],
   "source": [
    "type(1 * 2)"
   ]
  },
  {
   "cell_type": "code",
   "execution_count": null,
   "id": "695bca34",
   "metadata": {},
   "outputs": [],
   "source": [
    "type(9 / 3)"
   ]
  },
  {
   "cell_type": "code",
   "execution_count": null,
   "id": "00444bdc",
   "metadata": {},
   "outputs": [],
   "source": [
    "2 ** 3"
   ]
  },
  {
   "cell_type": "code",
   "execution_count": null,
   "id": "0fccf4a5",
   "metadata": {},
   "outputs": [],
   "source": [
    "(1 * 2 + 3 + 4)"
   ]
  },
  {
   "cell_type": "markdown",
   "id": "9bb00244",
   "metadata": {},
   "source": [
    "## 3. Comments\n",
    "We use comments to annotate what code is doing.\n",
    "\n",
    "They help other people to understand your code, and they can also be helpful if you haven't looked at your own code in a while.\n",
    "So far, the code that we have written is very short, but annotations become more important when you have written a lot of code."
   ]
  },
  {
   "cell_type": "code",
   "execution_count": null,
   "id": "824d94d3",
   "metadata": {},
   "outputs": [],
   "source": [
    "# Multiply 3 by 2\n",
    "print(3 * 2)"
   ]
  },
  {
   "cell_type": "markdown",
   "id": "703a6b41",
   "metadata": {},
   "source": [
    "## 4. Variables\n",
    "\n",
    "So far, you have used code to make a calculation and print the result, and the result isn't saved anywhere. However, you can imagine that you might want to save the result to work with it later. For this, you'll need to use variables."
   ]
  },
  {
   "cell_type": "markdown",
   "id": "3a2f3ce6",
   "metadata": {},
   "source": [
    "## a. Creating variables\n",
    "The next code cell creates a variable named test_var and assigns it the value that we get when we add 5 to 4.\n",
    "\n",
    "We then print the value that is assigned to the variable, which is 9."
   ]
  },
  {
   "cell_type": "code",
   "execution_count": null,
   "id": "4e78c519",
   "metadata": {},
   "outputs": [],
   "source": [
    "# Create a variable called test_var and give it a value of 4+5\n",
    "test_var = 4 + 5\n",
    "\n",
    "# Print the value of test_var\n",
    "print(test_var)"
   ]
  },
  {
   "cell_type": "code",
   "execution_count": null,
   "id": "4810fd52",
   "metadata": {},
   "outputs": [],
   "source": [
    "a = 1\n",
    "b = 2\n",
    "c = a + b\n",
    "print(c)"
   ]
  },
  {
   "cell_type": "markdown",
   "id": "1b09122a",
   "metadata": {},
   "source": [
    "In general, to work with a variable, you need to begin by selecting the name you want to use. Variable names are ideally short and descriptive. They also need to satisfy several requirements:\n",
    "\n",
    "* They can't have spaces (e.g., test var is not allowed)\n",
    "* They can only include letters, numbers, and underscores (e.g., test_var! is not allowed)\n",
    "* They have to start with a letter or underscore (e.g., 1_var is not allowed)"
   ]
  },
  {
   "cell_type": "markdown",
   "id": "027e8a1e",
   "metadata": {},
   "source": [
    "## b. Using multiple variables\n",
    "It's common for code to use multiple variables. This is especially useful when we have to do a long calculation with multiple inputs.\n",
    "\n",
    "In the next code cell, we calculate the number of seconds in four years. This calculation uses five inputs."
   ]
  },
  {
   "cell_type": "code",
   "execution_count": null,
   "id": "a8545e67",
   "metadata": {},
   "outputs": [],
   "source": [
    "# Create variables\n",
    "num_years = 5\n",
    "days_per_year = 365 \n",
    "hours_per_day = 24\n",
    "mins_per_hour = 60\n",
    "secs_per_min = 60\n",
    "\n",
    "# Calculate number of seconds in four years\n",
    "total_secs = secs_per_min * mins_per_hour * hours_per_day * days_per_year * num_years\n",
    "print(total_secs)"
   ]
  },
  {
   "cell_type": "markdown",
   "id": "1654972a",
   "metadata": {},
   "source": [
    "## 5. Functions\n",
    "\n",
    "In this lesson, you will learn how to organize your code with functions. A function is a block of code designed to perform a specific task. As you'll see, functions will let you do roughly the same calculation multiple times without duplicating any code"
   ]
  },
  {
   "cell_type": "markdown",
   "id": "ea56caa9",
   "metadata": {},
   "source": [
    "## a. Simple Functions\n",
    "\n",
    "Every function is composed of two pieces: a header and body."
   ]
  },
  {
   "cell_type": "code",
   "execution_count": null,
   "id": "ff53e8e6",
   "metadata": {},
   "outputs": [],
   "source": [
    "# Define the function\n",
    "def add_three(input_var):\n",
    "    output_var = input_var + 3\n",
    "    return output_var"
   ]
  },
  {
   "cell_type": "code",
   "execution_count": null,
   "id": "f6b55742",
   "metadata": {},
   "outputs": [],
   "source": [
    "def tambah_tiga(a,b):\n",
    "    return a + b + 3"
   ]
  },
  {
   "cell_type": "code",
   "execution_count": null,
   "id": "6f7dc681",
   "metadata": {},
   "outputs": [],
   "source": [
    "tambah_tiga(10, 20)"
   ]
  },
  {
   "cell_type": "code",
   "execution_count": null,
   "id": "c3fbd98d",
   "metadata": {},
   "outputs": [],
   "source": []
  },
  {
   "cell_type": "code",
   "execution_count": null,
   "id": "575788cc",
   "metadata": {},
   "outputs": [],
   "source": []
  },
  {
   "cell_type": "code",
   "execution_count": null,
   "id": "ba854c0a",
   "metadata": {},
   "outputs": [],
   "source": []
  },
  {
   "cell_type": "code",
   "execution_count": null,
   "id": "a4622ffd",
   "metadata": {},
   "outputs": [],
   "source": [
    "# Run the function with 10 as input\n",
    "new_number = add_three(10)"
   ]
  },
  {
   "cell_type": "code",
   "execution_count": null,
   "id": "3311ad46",
   "metadata": {},
   "outputs": [],
   "source": [
    "# Check that the value is 13, as expected\n",
    "print(new_number)"
   ]
  },
  {
   "cell_type": "markdown",
   "id": "d7491706",
   "metadata": {},
   "source": [
    "## b. Complex example\n",
    "\n",
    "Say you are helping a friend to calculate their weekly paycheck after taxes.\n",
    "\n",
    "* They're in a 12% tax bracket (in other words, 12% of their salary is taken for taxes, and they only take home 88%), and\n",
    "* They're paid hourly, at a rate of $15/hour."
   ]
  },
  {
   "cell_type": "code",
   "execution_count": null,
   "id": "c7f419ed",
   "metadata": {},
   "outputs": [],
   "source": [
    "def get_pay(num_hours):\n",
    "    # Pre-tax pay, based on receiving $15/hour\n",
    "    pay_pretax = num_hours * 15\n",
    "    # After-tax pay, based on being in 12% tax bracket\n",
    "    pay_aftertax = pay_pretax * (1 - .12)\n",
    "    return pay_aftertax"
   ]
  },
  {
   "cell_type": "code",
   "execution_count": null,
   "id": "b4358093",
   "metadata": {},
   "outputs": [],
   "source": [
    "# Calculate pay based on working 40 hours\n",
    "pay_fulltime = get_pay(40)\n",
    "print(pay_fulltime)"
   ]
  },
  {
   "cell_type": "code",
   "execution_count": null,
   "id": "5e88cb58",
   "metadata": {},
   "outputs": [],
   "source": [
    "def pajak(a):\n",
    "    pajak1 = a * 5\n",
    "    pajak2 = pajak1 + 10\n",
    "    return pajak2"
   ]
  },
  {
   "cell_type": "code",
   "execution_count": null,
   "id": "ad778f89",
   "metadata": {},
   "outputs": [],
   "source": [
    "pajak(10)"
   ]
  },
  {
   "cell_type": "code",
   "execution_count": null,
   "id": "90dbad4f",
   "metadata": {},
   "outputs": [],
   "source": [
    "a = 10\n",
    "pajak1 = a * 5\n",
    "pajak1"
   ]
  },
  {
   "cell_type": "code",
   "execution_count": null,
   "id": "c823cf57",
   "metadata": {},
   "outputs": [],
   "source": [
    "pajak2 = pajak1 + 10\n",
    "pajak2"
   ]
  },
  {
   "cell_type": "markdown",
   "id": "8b54384f",
   "metadata": {},
   "source": [
    "## c. Functions with multiple arguments\n",
    "\n",
    "We do this with the get_pay_with_more_inputs() function below, which calculates a weekly paycheck based on three arguments:\n",
    "\n",
    "* num_hours - number of hours worked in one week\n",
    "* hourly_wage - the hourly wage (in $/hour)\n",
    "* tax_bracket - percentage of your salary that is removed for taxes"
   ]
  },
  {
   "cell_type": "code",
   "execution_count": null,
   "id": "ae60e359",
   "metadata": {},
   "outputs": [],
   "source": [
    "def get_pay_with_more_inputs(num_hours, hourly_wage, tax_bracket):\n",
    "    # Pre-tax pay\n",
    "    pay_pretax = num_hours * hourly_wage\n",
    "    # After-tax pay\n",
    "    pay_aftertax = pay_pretax * (1 - tax_bracket)\n",
    "    return pay_aftertax"
   ]
  },
  {
   "cell_type": "code",
   "execution_count": null,
   "id": "d9450084",
   "metadata": {},
   "outputs": [],
   "source": [
    "higher_pay_aftertax = get_pay_with_more_inputs(40, 24, .22)\n",
    "print(higher_pay_aftertax)"
   ]
  },
  {
   "cell_type": "markdown",
   "id": "c0cbdb23",
   "metadata": {},
   "source": [
    "## c. Functions with no arguments\n",
    "\n",
    "Note that it's possible to define function with no arguments, and that don't have a return statement. The print_hello() function in the code cell below is an example."
   ]
  },
  {
   "cell_type": "code",
   "execution_count": null,
   "id": "8c212d20",
   "metadata": {},
   "outputs": [],
   "source": [
    "# Define the function with no arguments and with no return\n",
    "def print_hello():\n",
    "    print(\"Hello, you!\")\n",
    "    print(\"Good morning!\")"
   ]
  },
  {
   "cell_type": "code",
   "execution_count": null,
   "id": "863df60f",
   "metadata": {},
   "outputs": [],
   "source": [
    "# Call the function\n",
    "print_hello()"
   ]
  },
  {
   "cell_type": "code",
   "execution_count": null,
   "id": "3e4af625",
   "metadata": {},
   "outputs": [],
   "source": [
    "def print_hai():\n",
    "    print('hai hai')"
   ]
  },
  {
   "cell_type": "code",
   "execution_count": null,
   "id": "ca9c00a9",
   "metadata": {},
   "outputs": [],
   "source": [
    "print_hai()"
   ]
  },
  {
   "cell_type": "markdown",
   "id": "c946cd28",
   "metadata": {},
   "source": [
    "## 6. Data Types\n",
    "\n",
    "Whenever you create a variable in Python, it has a value with a corresponding data type. There are many different data types, such as integers, floats, booleans, and strings, all of which we'll cover in this lesson. (This is just a small subset of the available data types -- there are also dictionaries, sets, lists, tuples, and much more.)"
   ]
  },
  {
   "cell_type": "markdown",
   "id": "1666498a",
   "metadata": {},
   "source": [
    "## a. Integers\n",
    "\n",
    "Integers are numbers without any fractional part and can be positive (1, 2, 3, ...), negative (-1, -2, -3, ...), or zero (0)."
   ]
  },
  {
   "cell_type": "code",
   "execution_count": null,
   "id": "80d74201",
   "metadata": {},
   "outputs": [],
   "source": [
    "x = 14\n",
    "print(x)"
   ]
  },
  {
   "cell_type": "code",
   "execution_count": null,
   "id": "c060bc48",
   "metadata": {},
   "outputs": [],
   "source": [
    "type(x)"
   ]
  },
  {
   "cell_type": "markdown",
   "id": "9f621898",
   "metadata": {},
   "source": [
    "## b. Floats\n",
    "\n",
    "Floats are numbers with fractional parts. They can have many numbers after decimal."
   ]
  },
  {
   "cell_type": "code",
   "execution_count": null,
   "id": "82693c6e",
   "metadata": {},
   "outputs": [],
   "source": [
    "nearly_pi = 3.141592653589793238462643383279502884197169399375105820974944\n",
    "print(nearly_pi)\n",
    "type(nearly_pi)"
   ]
  },
  {
   "cell_type": "code",
   "execution_count": null,
   "id": "8f093f97",
   "metadata": {},
   "outputs": [],
   "source": [
    "almost_pi = 22/7\n",
    "print(almost_pi)\n",
    "print(type(almost_pi))"
   ]
  },
  {
   "cell_type": "code",
   "execution_count": null,
   "id": "21d4ae03",
   "metadata": {},
   "outputs": [],
   "source": [
    "1*1"
   ]
  },
  {
   "cell_type": "markdown",
   "id": "18f71df5",
   "metadata": {},
   "source": [
    "One function that is particularly useful for fractions is the round() function. It lets you round a number to a specified number of decimal places."
   ]
  },
  {
   "cell_type": "code",
   "execution_count": null,
   "id": "c7d4d4ec",
   "metadata": {},
   "outputs": [],
   "source": [
    "# Round to 5 decimal places\n",
    "rounded_pi = round(almost_pi, 5)\n",
    "print(rounded_pi)\n",
    "print(type(rounded_pi))"
   ]
  },
  {
   "cell_type": "code",
   "execution_count": null,
   "id": "c1f92a0a",
   "metadata": {},
   "outputs": [],
   "source": [
    "a = 3.1234567890\n",
    "round(a,3)"
   ]
  },
  {
   "cell_type": "code",
   "execution_count": null,
   "id": "a16f0b54",
   "metadata": {},
   "outputs": [],
   "source": []
  },
  {
   "cell_type": "markdown",
   "id": "cea1806d",
   "metadata": {},
   "source": [
    "Whenever you write an number with a decimal point, Python recognizes it as a float data type.\n",
    "\n",
    "For instance, 1. (or 1.0, 1.00, etc) will be recognized as a float. This is the case, even though these numbers technically have no fractional part!"
   ]
  },
  {
   "cell_type": "code",
   "execution_count": null,
   "id": "f55d158b",
   "metadata": {},
   "outputs": [],
   "source": [
    "y_float = 1.\n",
    "print(y_float)\n",
    "print(type(y_float))"
   ]
  },
  {
   "cell_type": "code",
   "execution_count": null,
   "id": "13ab5a4f",
   "metadata": {},
   "outputs": [],
   "source": [
    "float(1 * 1)"
   ]
  },
  {
   "cell_type": "markdown",
   "id": "a3c05060",
   "metadata": {},
   "source": [
    "## c. Booleans\n",
    "\n",
    "Floats are numbers with fractional parts. They can have many numbers after decimal."
   ]
  },
  {
   "cell_type": "code",
   "execution_count": null,
   "id": "f23dc1fd",
   "metadata": {},
   "outputs": [],
   "source": [
    "z_one = True\n",
    "print(z_one)\n",
    "type(z_one)"
   ]
  },
  {
   "cell_type": "code",
   "execution_count": null,
   "id": "81ef081c",
   "metadata": {},
   "outputs": [],
   "source": [
    "z_two = False\n",
    "print(z_two)\n",
    "print(type(z_two))"
   ]
  },
  {
   "cell_type": "code",
   "execution_count": null,
   "id": "b2b75e62",
   "metadata": {},
   "outputs": [],
   "source": [
    "z_three = (1 < 2)\n",
    "print(z_three)\n",
    "type(z_three)"
   ]
  },
  {
   "cell_type": "code",
   "execution_count": null,
   "id": "30b072f2",
   "metadata": {},
   "outputs": [],
   "source": [
    "z_four = (5 < 3)\n",
    "print(z_four)\n",
    "print(type(z_four))"
   ]
  },
  {
   "cell_type": "code",
   "execution_count": null,
   "id": "31dd58c8",
   "metadata": {},
   "outputs": [],
   "source": [
    "z_five = not z_four\n",
    "print(z_five)\n",
    "print(type(z_five))"
   ]
  },
  {
   "cell_type": "code",
   "execution_count": null,
   "id": "bf27d50c",
   "metadata": {},
   "outputs": [],
   "source": [
    "a = True\n",
    "print(a)"
   ]
  },
  {
   "cell_type": "code",
   "execution_count": null,
   "id": "f799c0b5",
   "metadata": {},
   "outputs": [],
   "source": [
    "b = not a\n",
    "print(b)"
   ]
  },
  {
   "cell_type": "markdown",
   "id": "6661c2d2",
   "metadata": {},
   "source": [
    "## d. Strings\n",
    "\n",
    "The string data type is a collection of characters (like alphabet letters, punctuation, numerical digits, or symbols) contained in quotation marks. Strings are commonly used to represent text."
   ]
  },
  {
   "cell_type": "code",
   "execution_count": null,
   "id": "3c82907f",
   "metadata": {},
   "outputs": [],
   "source": []
  },
  {
   "cell_type": "code",
   "execution_count": null,
   "id": "c9cfa5bb",
   "metadata": {},
   "outputs": [],
   "source": [
    "w = \"Hello, Python!\"\n",
    "print(w)\n",
    "type(w)"
   ]
  },
  {
   "cell_type": "markdown",
   "id": "dd478284",
   "metadata": {},
   "source": [
    "You can get the length of a string with len(). \"Hello, Python!\" has length 14, because it has 14 characters, including the space, comma, and exclamation mark. Note that the quotation marks are not included when calculating the length."
   ]
  },
  {
   "cell_type": "code",
   "execution_count": null,
   "id": "6ae3d982",
   "metadata": {},
   "outputs": [],
   "source": [
    "len(w)"
   ]
  },
  {
   "cell_type": "markdown",
   "id": "22798bc4",
   "metadata": {},
   "source": [
    "One special type of string is the empty string, which has length zero."
   ]
  },
  {
   "cell_type": "code",
   "execution_count": null,
   "id": "48840dce",
   "metadata": {},
   "outputs": [],
   "source": [
    "shortest_string = \"\"\n",
    "print(type(shortest_string))\n",
    "print(len(shortest_string))"
   ]
  },
  {
   "cell_type": "markdown",
   "id": "a5410f47",
   "metadata": {},
   "source": [
    "If you put a number in quotation marks, it has a string data type."
   ]
  },
  {
   "cell_type": "code",
   "execution_count": null,
   "id": "4ccabbfa",
   "metadata": {},
   "outputs": [],
   "source": [
    "my_number = \"1.12321\"\n",
    "print(my_number)\n",
    "type(my_number)"
   ]
  },
  {
   "cell_type": "markdown",
   "id": "8d9afe7f",
   "metadata": {},
   "source": [
    "If we have a string that is convertible to a float, we can use float().\n",
    "\n",
    "This won't always work! For instance, we can convert \"10.43430\" and \"3\" to floats, but we cannot convert \"Hello, Python!\" to a float."
   ]
  },
  {
   "cell_type": "code",
   "execution_count": null,
   "id": "0dc8ed5a",
   "metadata": {},
   "outputs": [],
   "source": [
    "a = float(my_number)\n",
    "str(a)"
   ]
  },
  {
   "cell_type": "code",
   "execution_count": null,
   "id": "368cbf00",
   "metadata": {},
   "outputs": [],
   "source": [
    "a = '123'\n",
    "float(a)"
   ]
  },
  {
   "cell_type": "code",
   "execution_count": null,
   "id": "8442a20c",
   "metadata": {},
   "outputs": [],
   "source": [
    "also_my_number = float(my_number)\n",
    "print(also_my_number)\n",
    "print(type(also_my_number))"
   ]
  },
  {
   "cell_type": "markdown",
   "id": "072a17c8",
   "metadata": {},
   "source": [
    "Just like you can add two numbers (floats or integers), you can also add two strings. It results in a longer string that combines the two original strings by concatenating them."
   ]
  },
  {
   "cell_type": "code",
   "execution_count": null,
   "id": "93feb6e2",
   "metadata": {},
   "outputs": [],
   "source": [
    "new_string = \"abc\" + \"def\"\n",
    "print(new_string)\n",
    "print(type(new_string))"
   ]
  },
  {
   "cell_type": "code",
   "execution_count": null,
   "id": "ffa84da5",
   "metadata": {},
   "outputs": [],
   "source": [
    "a = 'abc'\n",
    "b = str(1)\n",
    "c = a + b\n",
    "c"
   ]
  },
  {
   "cell_type": "markdown",
   "id": "d54e083e",
   "metadata": {},
   "source": [
    "Note that it's not possible to do subtraction or division with two strings. You also can't multiply two strings, but you can multiply a string by an integer. This again results in a string that's just the original string concatenated with itself a specified number of times."
   ]
  },
  {
   "cell_type": "code",
   "execution_count": null,
   "id": "22b47104",
   "metadata": {},
   "outputs": [],
   "source": [
    "newest_string = \"abc\" * 3\n",
    "print(newest_string)\n",
    "print(type(newest_string))"
   ]
  },
  {
   "cell_type": "code",
   "execution_count": null,
   "id": "bb959fe0",
   "metadata": {},
   "outputs": [],
   "source": [
    "a = 'abc'\n",
    "b = a * 3\n",
    "b"
   ]
  },
  {
   "cell_type": "code",
   "execution_count": null,
   "id": "0376f59a",
   "metadata": {},
   "outputs": [],
   "source": [
    "a = 1\n",
    "type(a)"
   ]
  },
  {
   "cell_type": "code",
   "execution_count": null,
   "id": "e0a7a55d",
   "metadata": {},
   "outputs": [],
   "source": [
    "a = float(a)\n",
    "type(a)"
   ]
  },
  {
   "cell_type": "code",
   "execution_count": null,
   "id": "3b930f5e",
   "metadata": {},
   "outputs": [],
   "source": [
    "a = str(a)\n",
    "type(a)"
   ]
  },
  {
   "cell_type": "code",
   "execution_count": null,
   "id": "35102448",
   "metadata": {},
   "outputs": [],
   "source": [
    "a = 1\n",
    "b = 2"
   ]
  },
  {
   "cell_type": "code",
   "execution_count": null,
   "id": "fb7b988e",
   "metadata": {},
   "outputs": [],
   "source": [
    "jumlah = a + b"
   ]
  },
  {
   "cell_type": "code",
   "execution_count": null,
   "id": "109f3fcb",
   "metadata": {},
   "outputs": [],
   "source": [
    "jumlah"
   ]
  },
  {
   "cell_type": "code",
   "execution_count": null,
   "id": "e7767491",
   "metadata": {},
   "outputs": [],
   "source": [
    "a = 1\n",
    "if a == 1:\n",
    "    print(a)"
   ]
  },
  {
   "cell_type": "code",
   "execution_count": null,
   "id": "e65faf53",
   "metadata": {},
   "outputs": [],
   "source": [
    "3**2\n",
    "\n",
    "a**b"
   ]
  },
  {
   "cell_type": "code",
   "execution_count": null,
   "id": "f86d2023",
   "metadata": {},
   "outputs": [],
   "source": [
    "def pangkat(a,b):\n",
    "    hasil = a**b\n",
    "    return hasil"
   ]
  },
  {
   "cell_type": "code",
   "execution_count": null,
   "id": "6a5975c9",
   "metadata": {},
   "outputs": [],
   "source": [
    "pangkat(3,2)"
   ]
  },
  {
   "cell_type": "code",
   "execution_count": null,
   "id": "d8c0d54d",
   "metadata": {},
   "outputs": [],
   "source": []
  }
 ],
 "metadata": {
  "kernelspec": {
   "display_name": "Python 3 (ipykernel)",
   "language": "python",
   "name": "python3"
  },
  "language_info": {
   "codemirror_mode": {
    "name": "ipython",
    "version": 3
   },
   "file_extension": ".py",
   "mimetype": "text/x-python",
   "name": "python",
   "nbconvert_exporter": "python",
   "pygments_lexer": "ipython3",
   "version": "3.11.4"
  }
 },
 "nbformat": 4,
 "nbformat_minor": 5
}
