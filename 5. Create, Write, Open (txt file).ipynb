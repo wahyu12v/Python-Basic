{
 "cells": [
  {
   "cell_type": "code",
   "execution_count": 1,
   "id": "726bc032",
   "metadata": {},
   "outputs": [],
   "source": [
    "import os"
   ]
  },
  {
   "cell_type": "markdown",
   "id": "33ee803a",
   "metadata": {},
   "source": [
    "# Create .txt file"
   ]
  },
  {
   "cell_type": "markdown",
   "id": "1a1309b0",
   "metadata": {},
   "source": [
    "Using the ```open()``` and param ```x``` function to create a blank text file"
   ]
  },
  {
   "cell_type": "code",
   "execution_count": 2,
   "id": "37975146",
   "metadata": {},
   "outputs": [],
   "source": [
    "# f = open(\"test.txt\", \"x\")\n",
    "# f.close()"
   ]
  },
  {
   "cell_type": "code",
   "execution_count": 3,
   "id": "c897356c",
   "metadata": {},
   "outputs": [],
   "source": [
    "path = \"test.txt\"\n",
    "if os.path.exists(path):\n",
    "    os.remove(path)\n",
    "    f = open(path, \"x\")\n",
    "    f.close()\n",
    "else:\n",
    "    print(\"The file does not exist\")"
   ]
  },
  {
   "cell_type": "markdown",
   "id": "b66913d9",
   "metadata": {},
   "source": [
    "# Write .txt file"
   ]
  },
  {
   "cell_type": "markdown",
   "id": "4d809834",
   "metadata": {},
   "source": [
    "Using the ```open()``` and param ```w``` function to create a new text file"
   ]
  },
  {
   "cell_type": "code",
   "execution_count": 4,
   "id": "ac970e0e",
   "metadata": {},
   "outputs": [],
   "source": [
    "with open('test.txt','w') as f:\n",
    "    f.write('Lintang\\n')\n",
    "    f.write('Gilang\\n')\n",
    "    f.write('Pratama\\n')\n",
    "f.close()"
   ]
  },
  {
   "cell_type": "markdown",
   "id": "683b1ee5",
   "metadata": {},
   "source": [
    "# Read .txt file\n",
    "Using the open() and param ```x``` function to create a new text file"
   ]
  },
  {
   "cell_type": "code",
   "execution_count": 5,
   "id": "83de2aab",
   "metadata": {},
   "outputs": [
    {
     "name": "stdout",
     "output_type": "stream",
     "text": [
      "Lintang\n",
      "Gilang\n",
      "Pratama\n",
      "\n"
     ]
    }
   ],
   "source": [
    "with open('test.txt','r') as f:\n",
    "    print(f.read())\n",
    "f.close()"
   ]
  },
  {
   "cell_type": "markdown",
   "id": "f4f9d34f",
   "metadata": {},
   "source": [
    "# Append .txt file\n",
    "Using the open() and param ```a+``` function to create a new text file"
   ]
  },
  {
   "cell_type": "code",
   "execution_count": 6,
   "id": "a9b61c46",
   "metadata": {},
   "outputs": [],
   "source": [
    "with open('test.txt','a+') as f:\n",
    "    f.write('Line_1\\n')\n",
    "    f.write('Line_2\\n')\n",
    "    f.write('Line_3\\n')\n",
    "f.close()"
   ]
  },
  {
   "cell_type": "code",
   "execution_count": 7,
   "id": "02fafa34",
   "metadata": {},
   "outputs": [
    {
     "name": "stdout",
     "output_type": "stream",
     "text": [
      "Lintang\n",
      "Gilang\n",
      "Pratama\n",
      "Line_1\n",
      "Line_2\n",
      "Line_3\n",
      "\n"
     ]
    }
   ],
   "source": [
    "with open('test.txt','r') as f:\n",
    "    print(f.read())\n",
    "f.close()"
   ]
  },
  {
   "cell_type": "markdown",
   "id": "847fe1e5",
   "metadata": {},
   "source": [
    "# Edit .txt file\n",
    "After the document is read convert it into a variable with type string"
   ]
  },
  {
   "cell_type": "code",
   "execution_count": 8,
   "id": "d196c3bd",
   "metadata": {},
   "outputs": [],
   "source": [
    "with open('test.txt','r') as f:\n",
    "    string = f.read()\n",
    "f.close()"
   ]
  },
  {
   "cell_type": "code",
   "execution_count": 9,
   "id": "cd6b8f71",
   "metadata": {},
   "outputs": [
    {
     "data": {
      "text/plain": [
       "'Lintang\\nGilang\\nPratama\\nLine_1\\nLine_2\\nLine_3\\n'"
      ]
     },
     "execution_count": 9,
     "metadata": {},
     "output_type": "execute_result"
    }
   ],
   "source": [
    "string"
   ]
  },
  {
   "cell_type": "code",
   "execution_count": 10,
   "id": "b9617baa",
   "metadata": {},
   "outputs": [
    {
     "data": {
      "text/plain": [
       "'Lintang - Gilang - Pratama - Line_1 - Line_2 - Line_3 - '"
      ]
     },
     "execution_count": 10,
     "metadata": {},
     "output_type": "execute_result"
    }
   ],
   "source": [
    "string = string.replace(\"\\n\", \" - \")\n",
    "string"
   ]
  },
  {
   "cell_type": "code",
   "execution_count": 11,
   "id": "0592fedc",
   "metadata": {},
   "outputs": [],
   "source": [
    "with open('test.txt','w') as f:\n",
    "    f.write(string)\n",
    "f.close()"
   ]
  },
  {
   "cell_type": "code",
   "execution_count": 12,
   "id": "0f459cbe",
   "metadata": {},
   "outputs": [
    {
     "name": "stdout",
     "output_type": "stream",
     "text": [
      "Lintang - Gilang - Pratama - Line_1 - Line_2 - Line_3 - \n"
     ]
    }
   ],
   "source": [
    "with open('test.txt','r') as f:\n",
    "    print(f.read())\n",
    "f.close()"
   ]
  },
  {
   "cell_type": "code",
   "execution_count": null,
   "id": "75f1be99",
   "metadata": {},
   "outputs": [],
   "source": []
  }
 ],
 "metadata": {
  "kernelspec": {
   "display_name": "Python 3 (ipykernel)",
   "language": "python",
   "name": "python3"
  },
  "language_info": {
   "codemirror_mode": {
    "name": "ipython",
    "version": 3
   },
   "file_extension": ".py",
   "mimetype": "text/x-python",
   "name": "python",
   "nbconvert_exporter": "python",
   "pygments_lexer": "ipython3",
   "version": "3.9.7"
  }
 },
 "nbformat": 4,
 "nbformat_minor": 5
}
