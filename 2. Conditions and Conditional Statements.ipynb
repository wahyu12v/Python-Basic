{
 "cells": [
  {
   "cell_type": "markdown",
   "id": "dc49189e",
   "metadata": {},
   "source": [
    "## Conditions and Conditional Statements"
   ]
  },
  {
   "cell_type": "markdown",
   "id": "c82257cb",
   "metadata": {},
   "source": [
    "## 1. Conditions\n",
    "\n",
    "In programming, conditions are statements that are either True or False. There are many different ways to write conditions in Python, but some of the most common ways of writing conditions just compare two different values. For instance, you can check if 2 is greater than 3"
   ]
  },
  {
   "cell_type": "code",
   "execution_count": 1,
   "id": "6bd1e5df",
   "metadata": {},
   "outputs": [
    {
     "name": "stdout",
     "output_type": "stream",
     "text": [
      "False\n"
     ]
    }
   ],
   "source": [
    "print(2 > 3)"
   ]
  },
  {
   "cell_type": "code",
   "execution_count": 2,
   "id": "00669669",
   "metadata": {},
   "outputs": [
    {
     "name": "stdout",
     "output_type": "stream",
     "text": [
      "False\n",
      "True\n"
     ]
    }
   ],
   "source": [
    "var_one = 1\n",
    "var_two = 2\n",
    "\n",
    "print(var_one < 1)\n",
    "print(var_two >= var_one)"
   ]
  },
  {
   "cell_type": "markdown",
   "id": "2f90bb8e",
   "metadata": {},
   "source": [
    "## 2. Conditional statements\n",
    "\n",
    "Conditional statements use conditions to modify how your function runs. They check the value of a condition, and if the condition evaluates to True, then a certain block of code is executed. (Otherwise, if the condition is False, then the code is not run.)"
   ]
  },
  {
   "cell_type": "markdown",
   "id": "333c4256",
   "metadata": {},
   "source": [
    "## \"if\" statements¶\n",
    "\n",
    "The simplest type of conditional statement is an \"if\" statement. You can see an example of this in the evaluate_temp() function below. The function accepts a body temperature (in Celcius) as input.\n",
    "\n",
    "* Initially, message is set to \"Normal temperature\".\n",
    "* Then, if temp > 38 is True (e.g., the body temperature is greater than 38°C), the message is updated to \"Fever!\". Otherwise, if temp > 38 is False, then the message is not updated.\n",
    "* Finally, message is returned by the function."
   ]
  },
  {
   "cell_type": "code",
   "execution_count": 3,
   "id": "af2fd231",
   "metadata": {},
   "outputs": [],
   "source": [
    "def evaluate_temp(temp):\n",
    "    # Set an initial message\n",
    "    message = \"Normal temperature.\"\n",
    "    # Update value of message only if temperature greater than 38\n",
    "    if temp > 38:\n",
    "        message = \"Fever!\"\n",
    "    return message"
   ]
  },
  {
   "cell_type": "code",
   "execution_count": null,
   "id": "e55cf1c3",
   "metadata": {},
   "outputs": [],
   "source": []
  },
  {
   "cell_type": "markdown",
   "id": "faec16fb",
   "metadata": {},
   "source": [
    "## \"if ... else\" statements\n",
    "\n",
    "We can use \"else\" statements to run code if a statement is False. \n",
    "The \n",
    "code under the \"if\" statement is run if the statement is True, and the code under \"else\" is run if the statement is False."
   ]
  },
  {
   "cell_type": "code",
   "execution_count": 4,
   "id": "e4b6b5f8",
   "metadata": {},
   "outputs": [],
   "source": [
    "def evaluate_temp_with_else(temp):\n",
    "    if temp > 38:\n",
    "        message = \"Fever!\"\n",
    "    else:\n",
    "        message = \"Normal temperature.\"\n",
    "    return message"
   ]
  },
  {
   "cell_type": "code",
   "execution_count": 5,
   "id": "30b20233",
   "metadata": {},
   "outputs": [
    {
     "name": "stdout",
     "output_type": "stream",
     "text": [
      "Normal temperature.\n"
     ]
    }
   ],
   "source": [
    "print(evaluate_temp_with_else(37))"
   ]
  },
  {
   "cell_type": "code",
   "execution_count": null,
   "id": "447c46d3",
   "metadata": {},
   "outputs": [],
   "source": []
  },
  {
   "cell_type": "code",
   "execution_count": null,
   "id": "aa7580b8",
   "metadata": {},
   "outputs": [],
   "source": []
  },
  {
   "cell_type": "code",
   "execution_count": 24,
   "id": "33e5cb60",
   "metadata": {},
   "outputs": [],
   "source": [
    "def ukur_suhu(a):\n",
    "    if a > 38:\n",
    "        pesan = 'panas'\n",
    "    else:\n",
    "        pesan = 'normal'\n",
    "    return pesan"
   ]
  },
  {
   "cell_type": "code",
   "execution_count": 26,
   "id": "5af2fe43",
   "metadata": {},
   "outputs": [
    {
     "data": {
      "text/plain": [
       "'normal'"
      ]
     },
     "execution_count": 26,
     "metadata": {},
     "output_type": "execute_result"
    }
   ],
   "source": [
    "ukur_suhu(20)"
   ]
  },
  {
   "cell_type": "markdown",
   "id": "96600a6d",
   "metadata": {},
   "source": [
    "## \"if ... elif ... else\" statements\n",
    "\n",
    "We can use \"elif\" (which is short for \"else if\") to check if multiple conditions might be true. The function below:\n",
    "\n",
    "* First checks if temp > 38. If this is true, then the message is set to \"Fever!\".\n",
    "* As long as the message has not already been set, the function then checks if temp > 35. If this is true, then the message is set to \"Normal temperature.\".\n",
    "* Then, if still no message has been set, the \"else\" statement ensures that the message is set to \"Low temperature.\" message is printed.\n",
    "\n",
    "You can think of \"elif\" as saying ... \"okay, that previous condition (e.g., temp > 38) was false, so let's check if this new condition (e.g., temp > 35) might be true!"
   ]
  },
  {
   "cell_type": "code",
   "execution_count": 6,
   "id": "e1bebadd",
   "metadata": {},
   "outputs": [],
   "source": [
    "def evaluate_temp_with_elif(temp):\n",
    "    if temp > 38:\n",
    "        message = \"Fever!\"\n",
    "    elif temp > 35:\n",
    "        message = \"Normal temperature.\"\n",
    "    else:\n",
    "        message = \"Low temperature.\"\n",
    "    return message"
   ]
  },
  {
   "cell_type": "code",
   "execution_count": 7,
   "id": "18afa513",
   "metadata": {},
   "outputs": [
    {
     "data": {
      "text/plain": [
       "'Normal temperature.'"
      ]
     },
     "execution_count": 7,
     "metadata": {},
     "output_type": "execute_result"
    }
   ],
   "source": [
    "evaluate_temp_with_elif(36)"
   ]
  },
  {
   "cell_type": "code",
   "execution_count": null,
   "id": "6207de9e",
   "metadata": {},
   "outputs": [],
   "source": []
  },
  {
   "cell_type": "code",
   "execution_count": 50,
   "id": "52e51413",
   "metadata": {},
   "outputs": [],
   "source": [
    "def ukur_suhu(a, b):\n",
    "    if a < 20:\n",
    "        pesan = 'dingin'\n",
    "        if b < 20:\n",
    "            info = 'info dingin'\n",
    "        elif b >= 20:\n",
    "            info = 'info panas'\n",
    "    else :\n",
    "        pesan = 'normal'\n",
    "    return print(pesan, info)"
   ]
  },
  {
   "cell_type": "code",
   "execution_count": 51,
   "id": "9e716ecb",
   "metadata": {},
   "outputs": [
    {
     "name": "stdout",
     "output_type": "stream",
     "text": [
      "dingin info panas\n"
     ]
    }
   ],
   "source": [
    "ukur_suhu(10, 20)"
   ]
  },
  {
   "cell_type": "markdown",
   "id": "b3ddfcd6",
   "metadata": {},
   "source": [
    "## Example - Calculations\n",
    "\n",
    "In the examples so far, conditional statements were used to decide how to set the values of variables. But you can also use conditional statements to perform different calculations."
   ]
  },
  {
   "cell_type": "code",
   "execution_count": 8,
   "id": "24a3c996",
   "metadata": {},
   "outputs": [],
   "source": [
    "def get_taxes(earnings):\n",
    "    if earnings < 12000:\n",
    "        tax_owed = .25 * earnings\n",
    "    else:\n",
    "        tax_owed = .30 * earnings\n",
    "    return tax_owed"
   ]
  },
  {
   "cell_type": "code",
   "execution_count": 9,
   "id": "ff614cb3",
   "metadata": {},
   "outputs": [
    {
     "name": "stdout",
     "output_type": "stream",
     "text": [
      "2250.0\n",
      "4500.0\n"
     ]
    }
   ],
   "source": [
    "ana_taxes = get_taxes(9000)\n",
    "bob_taxes = get_taxes(15000)\n",
    "\n",
    "print(ana_taxes)\n",
    "print(bob_taxes)"
   ]
  },
  {
   "cell_type": "markdown",
   "id": "e30a2e6d",
   "metadata": {},
   "source": [
    "## Example - Multiple \"elif\" statements"
   ]
  },
  {
   "cell_type": "code",
   "execution_count": 10,
   "id": "51b00184",
   "metadata": {},
   "outputs": [],
   "source": [
    "def get_dose(weight):\n",
    "    # Dosage is 1.25 ml for anyone under 5.2 kg\n",
    "    if weight < 5.2:\n",
    "        dose = 1.25\n",
    "    elif weight < 7.9:\n",
    "        dose = 2.5\n",
    "    elif weight < 10.4:\n",
    "        dose = 3.75\n",
    "    elif weight < 15.9:\n",
    "        dose = 5\n",
    "    elif weight < 21.2:\n",
    "        dose = 7.5\n",
    "    # Dosage is 10 ml for anyone 21.2 kg or over\n",
    "    else:\n",
    "        dose = 10\n",
    "    return dose"
   ]
  },
  {
   "cell_type": "code",
   "execution_count": 11,
   "id": "0c0fb8f1",
   "metadata": {},
   "outputs": [
    {
     "name": "stdout",
     "output_type": "stream",
     "text": [
      "5\n"
     ]
    }
   ],
   "source": [
    "print(get_dose(12))"
   ]
  },
  {
   "cell_type": "code",
   "execution_count": null,
   "id": "5596e1cf",
   "metadata": {},
   "outputs": [],
   "source": []
  },
  {
   "cell_type": "code",
   "execution_count": null,
   "id": "0911fe15",
   "metadata": {},
   "outputs": [],
   "source": []
  },
  {
   "cell_type": "code",
   "execution_count": 37,
   "id": "3c4291e9",
   "metadata": {},
   "outputs": [
    {
     "name": "stdout",
     "output_type": "stream",
     "text": [
      "1\n"
     ]
    }
   ],
   "source": [
    "# Clue 1\n",
    "a = '1'\n",
    "print(a)"
   ]
  },
  {
   "cell_type": "code",
   "execution_count": 38,
   "id": "1e0e4940",
   "metadata": {},
   "outputs": [
    {
     "name": "stdout",
     "output_type": "stream",
     "text": [
      "ini adalah angka\n"
     ]
    }
   ],
   "source": [
    "if a.isnumeric():\n",
    "    print('ini adalah angka')\n",
    "else :\n",
    "    print('ini bukan angka')"
   ]
  },
  {
   "cell_type": "code",
   "execution_count": null,
   "id": "16d19161",
   "metadata": {},
   "outputs": [],
   "source": []
  },
  {
   "cell_type": "code",
   "execution_count": 39,
   "id": "bf94e4e2",
   "metadata": {},
   "outputs": [
    {
     "name": "stdout",
     "output_type": "stream",
     "text": [
      "\n"
     ]
    }
   ],
   "source": [
    "# Clue 2\n",
    "a = input()"
   ]
  },
  {
   "cell_type": "code",
   "execution_count": 40,
   "id": "d730c04d",
   "metadata": {},
   "outputs": [
    {
     "name": "stdout",
     "output_type": "stream",
     "text": [
      "\n"
     ]
    }
   ],
   "source": [
    "print(a)"
   ]
  },
  {
   "cell_type": "code",
   "execution_count": 41,
   "id": "82056356",
   "metadata": {},
   "outputs": [],
   "source": [
    "# Task tugas def Input_var dimana mendeteksi apakah yang di input adalah angka atau tidak"
   ]
  },
  {
   "cell_type": "code",
   "execution_count": 42,
   "id": "a5b4a974",
   "metadata": {},
   "outputs": [],
   "source": [
    "def input_var():\n",
    "    a = input('Input :')\n",
    "    return a"
   ]
  },
  {
   "cell_type": "code",
   "execution_count": 43,
   "id": "e69fb528",
   "metadata": {},
   "outputs": [
    {
     "name": "stdout",
     "output_type": "stream",
     "text": [
      "Input :10\n"
     ]
    },
    {
     "data": {
      "text/plain": [
       "'10'"
      ]
     },
     "execution_count": 43,
     "metadata": {},
     "output_type": "execute_result"
    }
   ],
   "source": [
    "input_var()"
   ]
  },
  {
   "cell_type": "code",
   "execution_count": 47,
   "id": "d4e1f0e1",
   "metadata": {},
   "outputs": [],
   "source": [
    "#Junio\n",
    "def input_var():\n",
    "    a=input(\"input : \")\n",
    "    if a.isnumeric():\n",
    "        print(\"angka\")\n",
    "    else:\n",
    "        print(\"bukan angka\")"
   ]
  },
  {
   "cell_type": "code",
   "execution_count": 49,
   "id": "15050ec8",
   "metadata": {},
   "outputs": [
    {
     "name": "stdout",
     "output_type": "stream",
     "text": [
      "input : junio\n",
      "bukan angka\n"
     ]
    }
   ],
   "source": [
    "input_var()"
   ]
  },
  {
   "cell_type": "code",
   "execution_count": 1,
   "id": "6b669b2f",
   "metadata": {},
   "outputs": [],
   "source": [
    "#Sabil\n",
    "def input_var():\n",
    "    a = input('Input :')\n",
    "    if a.isnumeric():\n",
    "        return \"ini adalah angka\"\n",
    "    else :\n",
    "        return \"ini bukan angka\""
   ]
  },
  {
   "cell_type": "code",
   "execution_count": 2,
   "id": "ec47c5ea",
   "metadata": {},
   "outputs": [
    {
     "name": "stdout",
     "output_type": "stream",
     "text": [
      "Input :lintang\n"
     ]
    },
    {
     "data": {
      "text/plain": [
       "'ini bukan angka'"
      ]
     },
     "execution_count": 2,
     "metadata": {},
     "output_type": "execute_result"
    }
   ],
   "source": [
    "input_var()"
   ]
  },
  {
   "cell_type": "code",
   "execution_count": null,
   "id": "9aa6f235",
   "metadata": {},
   "outputs": [],
   "source": []
  }
 ],
 "metadata": {
  "kernelspec": {
   "display_name": "Python 3 (ipykernel)",
   "language": "python",
   "name": "python3"
  },
  "language_info": {
   "codemirror_mode": {
    "name": "ipython",
    "version": 3
   },
   "file_extension": ".py",
   "mimetype": "text/x-python",
   "name": "python",
   "nbconvert_exporter": "python",
   "pygments_lexer": "ipython3",
   "version": "3.11.4"
  }
 },
 "nbformat": 4,
 "nbformat_minor": 5
}
